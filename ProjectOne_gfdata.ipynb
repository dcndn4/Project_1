{
 "cells": [
  {
   "cell_type": "markdown",
   "id": "4004d81d",
   "metadata": {},
   "source": [
    "# Project 1\n",
    "Alex\n",
    "\n",
    "Claire\n",
    "\n",
    "Steve\n",
    "\n",
    "Sylvia\n",
    "\n",
    "\n",
    "This project explores data analysis of cryptocurrencies."
   ]
  },
  {
   "cell_type": "code",
   "execution_count": 1,
   "id": "841e00e5",
   "metadata": {},
   "outputs": [],
   "source": [
    "import os\n",
    "from dotenv import load_dotenv\n",
    "from pathlib import Path\n",
    "from requests import Request, Session\n",
    "from requests.exceptions import ConnectionError, Timeout, TooManyRedirects\n",
    "import json\n",
    "import matplotlib.pyplot as plt\n",
    "import plotly.express as px\n",
    "import seaborn as sns\n",
    "import pandas as pd"
   ]
  },
  {
   "cell_type": "markdown",
   "id": "f5813d83",
   "metadata": {},
   "source": [
    "## Import data"
   ]
  },
  {
   "cell_type": "code",
   "execution_count": 2,
   "id": "ec1ebfd7",
   "metadata": {},
   "outputs": [
    {
     "name": "stdout",
     "output_type": "stream",
     "text": [
      "BTCUSD    float64\n",
      "dtype: object\n"
     ]
    },
    {
     "data": {
      "text/html": [
       "<div>\n",
       "<style scoped>\n",
       "    .dataframe tbody tr th:only-of-type {\n",
       "        vertical-align: middle;\n",
       "    }\n",
       "\n",
       "    .dataframe tbody tr th {\n",
       "        vertical-align: top;\n",
       "    }\n",
       "\n",
       "    .dataframe thead th {\n",
       "        text-align: right;\n",
       "    }\n",
       "</style>\n",
       "<table border=\"1\" class=\"dataframe\">\n",
       "  <thead>\n",
       "    <tr style=\"text-align: right;\">\n",
       "      <th></th>\n",
       "      <th>BTCUSD</th>\n",
       "    </tr>\n",
       "    <tr>\n",
       "      <th>Date</th>\n",
       "      <th></th>\n",
       "    </tr>\n",
       "  </thead>\n",
       "  <tbody>\n",
       "    <tr>\n",
       "      <th>2015-11-19</th>\n",
       "      <td>326.41</td>\n",
       "    </tr>\n",
       "    <tr>\n",
       "      <th>2015-11-20</th>\n",
       "      <td>322.39</td>\n",
       "    </tr>\n",
       "    <tr>\n",
       "      <th>2015-11-21</th>\n",
       "      <td>327.00</td>\n",
       "    </tr>\n",
       "    <tr>\n",
       "      <th>2015-11-22</th>\n",
       "      <td>323.71</td>\n",
       "    </tr>\n",
       "    <tr>\n",
       "      <th>2015-11-23</th>\n",
       "      <td>323.00</td>\n",
       "    </tr>\n",
       "    <tr>\n",
       "      <th>...</th>\n",
       "      <td>...</td>\n",
       "    </tr>\n",
       "    <tr>\n",
       "      <th>2021-09-26</th>\n",
       "      <td>43228.50</td>\n",
       "    </tr>\n",
       "    <tr>\n",
       "      <th>2021-09-27</th>\n",
       "      <td>42171.70</td>\n",
       "    </tr>\n",
       "    <tr>\n",
       "      <th>2021-09-28</th>\n",
       "      <td>41049.00</td>\n",
       "    </tr>\n",
       "    <tr>\n",
       "      <th>2021-09-29</th>\n",
       "      <td>41522.10</td>\n",
       "    </tr>\n",
       "    <tr>\n",
       "      <th>2021-09-30</th>\n",
       "      <td>43824.40</td>\n",
       "    </tr>\n",
       "  </tbody>\n",
       "</table>\n",
       "<p>2143 rows × 1 columns</p>\n",
       "</div>"
      ],
      "text/plain": [
       "              BTCUSD\n",
       "Date                \n",
       "2015-11-19    326.41\n",
       "2015-11-20    322.39\n",
       "2015-11-21    327.00\n",
       "2015-11-22    323.71\n",
       "2015-11-23    323.00\n",
       "...              ...\n",
       "2021-09-26  43228.50\n",
       "2021-09-27  42171.70\n",
       "2021-09-28  41049.00\n",
       "2021-09-29  41522.10\n",
       "2021-09-30  43824.40\n",
       "\n",
       "[2143 rows x 1 columns]"
      ]
     },
     "execution_count": 2,
     "metadata": {},
     "output_type": "execute_result"
    }
   ],
   "source": [
    "filepath=Path(\"Resources/BTC_c_.csv\")\n",
    "\n",
    "BTC_data = pd.read_csv(filepath, index_col=\"Date\", parse_dates=True)\n",
    "print(BTC_data.dtypes)\n",
    "\n",
    "\n",
    "#BTC_data['Date'] = pd.to_datetime(BTC_data['Date'])\n",
    "\n",
    "#print(BTC_data.dtypes)\n",
    "BTC_data"
   ]
  },
  {
   "cell_type": "code",
   "execution_count": 3,
   "id": "e25ed661",
   "metadata": {},
   "outputs": [
    {
     "name": "stdout",
     "output_type": "stream",
     "text": [
      "ETHUSD    float64\n",
      "dtype: object\n"
     ]
    },
    {
     "data": {
      "text/html": [
       "<div>\n",
       "<style scoped>\n",
       "    .dataframe tbody tr th:only-of-type {\n",
       "        vertical-align: middle;\n",
       "    }\n",
       "\n",
       "    .dataframe tbody tr th {\n",
       "        vertical-align: top;\n",
       "    }\n",
       "\n",
       "    .dataframe thead th {\n",
       "        text-align: right;\n",
       "    }\n",
       "</style>\n",
       "<table border=\"1\" class=\"dataframe\">\n",
       "  <thead>\n",
       "    <tr style=\"text-align: right;\">\n",
       "      <th></th>\n",
       "      <th>ETHUSD</th>\n",
       "    </tr>\n",
       "    <tr>\n",
       "      <th>Date</th>\n",
       "      <th></th>\n",
       "    </tr>\n",
       "  </thead>\n",
       "  <tbody>\n",
       "    <tr>\n",
       "      <th>2016-10-14</th>\n",
       "      <td>11.92</td>\n",
       "    </tr>\n",
       "    <tr>\n",
       "      <th>2016-10-15</th>\n",
       "      <td>11.95</td>\n",
       "    </tr>\n",
       "    <tr>\n",
       "      <th>2016-10-16</th>\n",
       "      <td>11.95</td>\n",
       "    </tr>\n",
       "    <tr>\n",
       "      <th>2016-10-17</th>\n",
       "      <td>11.96</td>\n",
       "    </tr>\n",
       "    <tr>\n",
       "      <th>2016-10-18</th>\n",
       "      <td>12.54</td>\n",
       "    </tr>\n",
       "    <tr>\n",
       "      <th>...</th>\n",
       "      <td>...</td>\n",
       "    </tr>\n",
       "    <tr>\n",
       "      <th>2021-09-26</th>\n",
       "      <td>3064.64</td>\n",
       "    </tr>\n",
       "    <tr>\n",
       "      <th>2021-09-27</th>\n",
       "      <td>2927.15</td>\n",
       "    </tr>\n",
       "    <tr>\n",
       "      <th>2021-09-28</th>\n",
       "      <td>2807.19</td>\n",
       "    </tr>\n",
       "    <tr>\n",
       "      <th>2021-09-29</th>\n",
       "      <td>2848.28</td>\n",
       "    </tr>\n",
       "    <tr>\n",
       "      <th>2021-09-30</th>\n",
       "      <td>3000.45</td>\n",
       "    </tr>\n",
       "  </tbody>\n",
       "</table>\n",
       "<p>1813 rows × 1 columns</p>\n",
       "</div>"
      ],
      "text/plain": [
       "             ETHUSD\n",
       "Date               \n",
       "2016-10-14    11.92\n",
       "2016-10-15    11.95\n",
       "2016-10-16    11.95\n",
       "2016-10-17    11.96\n",
       "2016-10-18    12.54\n",
       "...             ...\n",
       "2021-09-26  3064.64\n",
       "2021-09-27  2927.15\n",
       "2021-09-28  2807.19\n",
       "2021-09-29  2848.28\n",
       "2021-09-30  3000.45\n",
       "\n",
       "[1813 rows x 1 columns]"
      ]
     },
     "execution_count": 3,
     "metadata": {},
     "output_type": "execute_result"
    }
   ],
   "source": [
    "\n",
    "\n",
    "filepath=Path(\"Resources/ETH_c_.csv\")\n",
    "ETH_data = pd.read_csv(filepath, index_col=\"Date\", parse_dates=True)\n",
    "#ETH_data['Date'] = pd.to_datetime(ETH_data['Date'], \n",
    "print(ETH_data.dtypes)\n",
    "ETH_data"
   ]
  },
  {
   "cell_type": "code",
   "execution_count": 4,
   "id": "7f8e283e",
   "metadata": {},
   "outputs": [],
   "source": [
    "merged_BTCETH = pd.merge(BTC_data, ETH_data, on=[\"Date\"])\n"
   ]
  },
  {
   "cell_type": "code",
   "execution_count": 5,
   "id": "ef2aed42",
   "metadata": {},
   "outputs": [
    {
     "data": {
      "text/plain": [
       "<bound method NDFrame.head of               BTCUSD   ETHUSD\n",
       "Date                         \n",
       "2016-10-14    638.03    11.92\n",
       "2016-10-15    638.16    11.95\n",
       "2016-10-16    641.92    11.95\n",
       "2016-10-17    639.56    11.96\n",
       "2016-10-18    635.11    12.54\n",
       "...              ...      ...\n",
       "2021-09-26  43228.50  3064.64\n",
       "2021-09-27  42171.70  2927.15\n",
       "2021-09-28  41049.00  2807.19\n",
       "2021-09-29  41522.10  2848.28\n",
       "2021-09-30  43824.40  3000.45\n",
       "\n",
       "[1813 rows x 2 columns]>"
      ]
     },
     "execution_count": 5,
     "metadata": {},
     "output_type": "execute_result"
    }
   ],
   "source": [
    "merged_BTCETH.head\n",
    "\n"
   ]
  },
  {
   "cell_type": "code",
   "execution_count": 6,
   "id": "ce6f3d6d",
   "metadata": {},
   "outputs": [
    {
     "data": {
      "text/plain": [
       "BTCUSD    float64\n",
       "ETHUSD    float64\n",
       "dtype: object"
      ]
     },
     "execution_count": 6,
     "metadata": {},
     "output_type": "execute_result"
    }
   ],
   "source": [
    "merged_BTCETH.dtypes"
   ]
  },
  {
   "cell_type": "code",
   "execution_count": 7,
   "id": "a23860af",
   "metadata": {},
   "outputs": [
    {
     "data": {
      "text/plain": [
       "<matplotlib.axes._subplots.AxesSubplot at 0x14fb7dee888>"
      ]
     },
     "execution_count": 7,
     "metadata": {},
     "output_type": "execute_result"
    },
    {
     "data": {
      "image/png": "[encoded data removed]",
      "text/plain": [
       "<Figure size 432x288 with 1 Axes>"
      ]
     },
     "metadata": {
      "needs_background": "light"
     },
     "output_type": "display_data"
    }
   ],
   "source": [
    "# Plot the data trends of the bitcoin vs. ethereum over these years\n",
    "merged_BTCETH.plot(title='correlation of bitcoin vs. ethereum')"
   ]
  },
  {
   "cell_type": "markdown",
   "id": "a006caf4",
   "metadata": {},
   "source": [
    " ### Scaling Prices"
   ]
  },
  {
   "cell_type": "code",
   "execution_count": 8,
   "id": "c480aa06",
   "metadata": {},
   "outputs": [],
   "source": [
    "merged_BTCETH[\"BTC_norm\"]=merged_BTCETH[\"BTCUSD\"] / merged_BTCETH[\"BTCUSD\"].abs().max()"
   ]
  },
  {
   "cell_type": "code",
   "execution_count": 9,
   "id": "63522c91",
   "metadata": {},
   "outputs": [
    {
     "data": {
      "text/html": [
       "<div>\n",
       "<style scoped>\n",
       "    .dataframe tbody tr th:only-of-type {\n",
       "        vertical-align: middle;\n",
       "    }\n",
       "\n",
       "    .dataframe tbody tr th {\n",
       "        vertical-align: top;\n",
       "    }\n",
       "\n",
       "    .dataframe thead th {\n",
       "        text-align: right;\n",
       "    }\n",
       "</style>\n",
       "<table border=\"1\" class=\"dataframe\">\n",
       "  <thead>\n",
       "    <tr style=\"text-align: right;\">\n",
       "      <th></th>\n",
       "      <th>BTCUSD</th>\n",
       "      <th>ETHUSD</th>\n",
       "      <th>BTC_norm</th>\n",
       "    </tr>\n",
       "    <tr>\n",
       "      <th>Date</th>\n",
       "      <th></th>\n",
       "      <th></th>\n",
       "      <th></th>\n",
       "    </tr>\n",
       "  </thead>\n",
       "  <tbody>\n",
       "    <tr>\n",
       "      <th>2016-10-14</th>\n",
       "      <td>638.03</td>\n",
       "      <td>11.92</td>\n",
       "      <td>0.010034</td>\n",
       "    </tr>\n",
       "    <tr>\n",
       "      <th>2016-10-15</th>\n",
       "      <td>638.16</td>\n",
       "      <td>11.95</td>\n",
       "      <td>0.010036</td>\n",
       "    </tr>\n",
       "    <tr>\n",
       "      <th>2016-10-16</th>\n",
       "      <td>641.92</td>\n",
       "      <td>11.95</td>\n",
       "      <td>0.010095</td>\n",
       "    </tr>\n",
       "    <tr>\n",
       "      <th>2016-10-17</th>\n",
       "      <td>639.56</td>\n",
       "      <td>11.96</td>\n",
       "      <td>0.010058</td>\n",
       "    </tr>\n",
       "    <tr>\n",
       "      <th>2016-10-18</th>\n",
       "      <td>635.11</td>\n",
       "      <td>12.54</td>\n",
       "      <td>0.009988</td>\n",
       "    </tr>\n",
       "    <tr>\n",
       "      <th>...</th>\n",
       "      <td>...</td>\n",
       "      <td>...</td>\n",
       "      <td>...</td>\n",
       "    </tr>\n",
       "    <tr>\n",
       "      <th>2021-09-26</th>\n",
       "      <td>43228.50</td>\n",
       "      <td>3064.64</td>\n",
       "      <td>0.679820</td>\n",
       "    </tr>\n",
       "    <tr>\n",
       "      <th>2021-09-27</th>\n",
       "      <td>42171.70</td>\n",
       "      <td>2927.15</td>\n",
       "      <td>0.663200</td>\n",
       "    </tr>\n",
       "    <tr>\n",
       "      <th>2021-09-28</th>\n",
       "      <td>41049.00</td>\n",
       "      <td>2807.19</td>\n",
       "      <td>0.645544</td>\n",
       "    </tr>\n",
       "    <tr>\n",
       "      <th>2021-09-29</th>\n",
       "      <td>41522.10</td>\n",
       "      <td>2848.28</td>\n",
       "      <td>0.652984</td>\n",
       "    </tr>\n",
       "    <tr>\n",
       "      <th>2021-09-30</th>\n",
       "      <td>43824.40</td>\n",
       "      <td>3000.45</td>\n",
       "      <td>0.689191</td>\n",
       "    </tr>\n",
       "  </tbody>\n",
       "</table>\n",
       "<p>1813 rows × 3 columns</p>\n",
       "</div>"
      ],
      "text/plain": [
       "              BTCUSD   ETHUSD  BTC_norm\n",
       "Date                                   \n",
       "2016-10-14    638.03    11.92  0.010034\n",
       "2016-10-15    638.16    11.95  0.010036\n",
       "2016-10-16    641.92    11.95  0.010095\n",
       "2016-10-17    639.56    11.96  0.010058\n",
       "2016-10-18    635.11    12.54  0.009988\n",
       "...              ...      ...       ...\n",
       "2021-09-26  43228.50  3064.64  0.679820\n",
       "2021-09-27  42171.70  2927.15  0.663200\n",
       "2021-09-28  41049.00  2807.19  0.645544\n",
       "2021-09-29  41522.10  2848.28  0.652984\n",
       "2021-09-30  43824.40  3000.45  0.689191\n",
       "\n",
       "[1813 rows x 3 columns]"
      ]
     },
     "execution_count": 9,
     "metadata": {},
     "output_type": "execute_result"
    }
   ],
   "source": [
    "merged_BTCETH\n"
   ]
  },
  {
   "cell_type": "code",
   "execution_count": 10,
   "id": "7d59d7e4",
   "metadata": {},
   "outputs": [],
   "source": [
    "merged_BTCETH[\"ETH_norm\"]=merged_BTCETH[\"ETHUSD\"] / merged_BTCETH[\"ETHUSD\"].abs().max()"
   ]
  },
  {
   "cell_type": "code",
   "execution_count": 11,
   "id": "346fd715",
   "metadata": {},
   "outputs": [
    {
     "data": {
      "text/html": [
       "<div>\n",
       "<style scoped>\n",
       "    .dataframe tbody tr th:only-of-type {\n",
       "        vertical-align: middle;\n",
       "    }\n",
       "\n",
       "    .dataframe tbody tr th {\n",
       "        vertical-align: top;\n",
       "    }\n",
       "\n",
       "    .dataframe thead th {\n",
       "        text-align: right;\n",
       "    }\n",
       "</style>\n",
       "<table border=\"1\" class=\"dataframe\">\n",
       "  <thead>\n",
       "    <tr style=\"text-align: right;\">\n",
       "      <th></th>\n",
       "      <th>BTCUSD</th>\n",
       "      <th>ETHUSD</th>\n",
       "      <th>BTC_norm</th>\n",
       "      <th>ETH_norm</th>\n",
       "    </tr>\n",
       "    <tr>\n",
       "      <th>Date</th>\n",
       "      <th></th>\n",
       "      <th></th>\n",
       "      <th></th>\n",
       "      <th></th>\n",
       "    </tr>\n",
       "  </thead>\n",
       "  <tbody>\n",
       "    <tr>\n",
       "      <th>2016-10-14</th>\n",
       "      <td>638.03</td>\n",
       "      <td>11.92</td>\n",
       "      <td>0.010034</td>\n",
       "      <td>0.002852</td>\n",
       "    </tr>\n",
       "    <tr>\n",
       "      <th>2016-10-15</th>\n",
       "      <td>638.16</td>\n",
       "      <td>11.95</td>\n",
       "      <td>0.010036</td>\n",
       "      <td>0.002859</td>\n",
       "    </tr>\n",
       "    <tr>\n",
       "      <th>2016-10-16</th>\n",
       "      <td>641.92</td>\n",
       "      <td>11.95</td>\n",
       "      <td>0.010095</td>\n",
       "      <td>0.002859</td>\n",
       "    </tr>\n",
       "    <tr>\n",
       "      <th>2016-10-17</th>\n",
       "      <td>639.56</td>\n",
       "      <td>11.96</td>\n",
       "      <td>0.010058</td>\n",
       "      <td>0.002861</td>\n",
       "    </tr>\n",
       "    <tr>\n",
       "      <th>2016-10-18</th>\n",
       "      <td>635.11</td>\n",
       "      <td>12.54</td>\n",
       "      <td>0.009988</td>\n",
       "      <td>0.003000</td>\n",
       "    </tr>\n",
       "    <tr>\n",
       "      <th>...</th>\n",
       "      <td>...</td>\n",
       "      <td>...</td>\n",
       "      <td>...</td>\n",
       "      <td>...</td>\n",
       "    </tr>\n",
       "    <tr>\n",
       "      <th>2021-09-26</th>\n",
       "      <td>43228.50</td>\n",
       "      <td>3064.64</td>\n",
       "      <td>0.679820</td>\n",
       "      <td>0.733201</td>\n",
       "    </tr>\n",
       "    <tr>\n",
       "      <th>2021-09-27</th>\n",
       "      <td>42171.70</td>\n",
       "      <td>2927.15</td>\n",
       "      <td>0.663200</td>\n",
       "      <td>0.700307</td>\n",
       "    </tr>\n",
       "    <tr>\n",
       "      <th>2021-09-28</th>\n",
       "      <td>41049.00</td>\n",
       "      <td>2807.19</td>\n",
       "      <td>0.645544</td>\n",
       "      <td>0.671607</td>\n",
       "    </tr>\n",
       "    <tr>\n",
       "      <th>2021-09-29</th>\n",
       "      <td>41522.10</td>\n",
       "      <td>2848.28</td>\n",
       "      <td>0.652984</td>\n",
       "      <td>0.681438</td>\n",
       "    </tr>\n",
       "    <tr>\n",
       "      <th>2021-09-30</th>\n",
       "      <td>43824.40</td>\n",
       "      <td>3000.45</td>\n",
       "      <td>0.689191</td>\n",
       "      <td>0.717844</td>\n",
       "    </tr>\n",
       "  </tbody>\n",
       "</table>\n",
       "<p>1813 rows × 4 columns</p>\n",
       "</div>"
      ],
      "text/plain": [
       "              BTCUSD   ETHUSD  BTC_norm  ETH_norm\n",
       "Date                                             \n",
       "2016-10-14    638.03    11.92  0.010034  0.002852\n",
       "2016-10-15    638.16    11.95  0.010036  0.002859\n",
       "2016-10-16    641.92    11.95  0.010095  0.002859\n",
       "2016-10-17    639.56    11.96  0.010058  0.002861\n",
       "2016-10-18    635.11    12.54  0.009988  0.003000\n",
       "...              ...      ...       ...       ...\n",
       "2021-09-26  43228.50  3064.64  0.679820  0.733201\n",
       "2021-09-27  42171.70  2927.15  0.663200  0.700307\n",
       "2021-09-28  41049.00  2807.19  0.645544  0.671607\n",
       "2021-09-29  41522.10  2848.28  0.652984  0.681438\n",
       "2021-09-30  43824.40  3000.45  0.689191  0.717844\n",
       "\n",
       "[1813 rows x 4 columns]"
      ]
     },
     "execution_count": 11,
     "metadata": {},
     "output_type": "execute_result"
    }
   ],
   "source": [
    "merged_BTCETH"
   ]
  },
  {
   "cell_type": "code",
   "execution_count": 12,
   "id": "e0eb08a7",
   "metadata": {},
   "outputs": [
    {
     "name": "stdout",
     "output_type": "stream",
     "text": [
      "BTCUSD      float64\n",
      "ETHUSD      float64\n",
      "BTC_norm    float64\n",
      "ETH_norm    float64\n",
      "dtype: object\n"
     ]
    },
    {
     "data": {
      "text/html": [
       "<div>\n",
       "<style scoped>\n",
       "    .dataframe tbody tr th:only-of-type {\n",
       "        vertical-align: middle;\n",
       "    }\n",
       "\n",
       "    .dataframe tbody tr th {\n",
       "        vertical-align: top;\n",
       "    }\n",
       "\n",
       "    .dataframe thead th {\n",
       "        text-align: right;\n",
       "    }\n",
       "</style>\n",
       "<table border=\"1\" class=\"dataframe\">\n",
       "  <thead>\n",
       "    <tr style=\"text-align: right;\">\n",
       "      <th></th>\n",
       "      <th>BTCUSD</th>\n",
       "      <th>ETHUSD</th>\n",
       "      <th>BTC_norm</th>\n",
       "      <th>ETH_norm</th>\n",
       "    </tr>\n",
       "    <tr>\n",
       "      <th>Date</th>\n",
       "      <th></th>\n",
       "      <th></th>\n",
       "      <th></th>\n",
       "      <th></th>\n",
       "    </tr>\n",
       "  </thead>\n",
       "  <tbody>\n",
       "    <tr>\n",
       "      <th>2016-10-14</th>\n",
       "      <td>638.03</td>\n",
       "      <td>11.92</td>\n",
       "      <td>0.010034</td>\n",
       "      <td>0.002852</td>\n",
       "    </tr>\n",
       "    <tr>\n",
       "      <th>2016-10-15</th>\n",
       "      <td>638.16</td>\n",
       "      <td>11.95</td>\n",
       "      <td>0.010036</td>\n",
       "      <td>0.002859</td>\n",
       "    </tr>\n",
       "    <tr>\n",
       "      <th>2016-10-16</th>\n",
       "      <td>641.92</td>\n",
       "      <td>11.95</td>\n",
       "      <td>0.010095</td>\n",
       "      <td>0.002859</td>\n",
       "    </tr>\n",
       "    <tr>\n",
       "      <th>2016-10-17</th>\n",
       "      <td>639.56</td>\n",
       "      <td>11.96</td>\n",
       "      <td>0.010058</td>\n",
       "      <td>0.002861</td>\n",
       "    </tr>\n",
       "    <tr>\n",
       "      <th>2016-10-18</th>\n",
       "      <td>635.11</td>\n",
       "      <td>12.54</td>\n",
       "      <td>0.009988</td>\n",
       "      <td>0.003000</td>\n",
       "    </tr>\n",
       "    <tr>\n",
       "      <th>...</th>\n",
       "      <td>...</td>\n",
       "      <td>...</td>\n",
       "      <td>...</td>\n",
       "      <td>...</td>\n",
       "    </tr>\n",
       "    <tr>\n",
       "      <th>2021-09-26</th>\n",
       "      <td>43228.50</td>\n",
       "      <td>3064.64</td>\n",
       "      <td>0.679820</td>\n",
       "      <td>0.733201</td>\n",
       "    </tr>\n",
       "    <tr>\n",
       "      <th>2021-09-27</th>\n",
       "      <td>42171.70</td>\n",
       "      <td>2927.15</td>\n",
       "      <td>0.663200</td>\n",
       "      <td>0.700307</td>\n",
       "    </tr>\n",
       "    <tr>\n",
       "      <th>2021-09-28</th>\n",
       "      <td>41049.00</td>\n",
       "      <td>2807.19</td>\n",
       "      <td>0.645544</td>\n",
       "      <td>0.671607</td>\n",
       "    </tr>\n",
       "    <tr>\n",
       "      <th>2021-09-29</th>\n",
       "      <td>41522.10</td>\n",
       "      <td>2848.28</td>\n",
       "      <td>0.652984</td>\n",
       "      <td>0.681438</td>\n",
       "    </tr>\n",
       "    <tr>\n",
       "      <th>2021-09-30</th>\n",
       "      <td>43824.40</td>\n",
       "      <td>3000.45</td>\n",
       "      <td>0.689191</td>\n",
       "      <td>0.717844</td>\n",
       "    </tr>\n",
       "  </tbody>\n",
       "</table>\n",
       "<p>1813 rows × 4 columns</p>\n",
       "</div>"
      ],
      "text/plain": [
       "              BTCUSD   ETHUSD  BTC_norm  ETH_norm\n",
       "Date                                             \n",
       "2016-10-14    638.03    11.92  0.010034  0.002852\n",
       "2016-10-15    638.16    11.95  0.010036  0.002859\n",
       "2016-10-16    641.92    11.95  0.010095  0.002859\n",
       "2016-10-17    639.56    11.96  0.010058  0.002861\n",
       "2016-10-18    635.11    12.54  0.009988  0.003000\n",
       "...              ...      ...       ...       ...\n",
       "2021-09-26  43228.50  3064.64  0.679820  0.733201\n",
       "2021-09-27  42171.70  2927.15  0.663200  0.700307\n",
       "2021-09-28  41049.00  2807.19  0.645544  0.671607\n",
       "2021-09-29  41522.10  2848.28  0.652984  0.681438\n",
       "2021-09-30  43824.40  3000.45  0.689191  0.717844\n",
       "\n",
       "[1813 rows x 4 columns]"
      ]
     },
     "execution_count": 12,
     "metadata": {},
     "output_type": "execute_result"
    }
   ],
   "source": [
    "print(merged_BTCETH.dtypes)\n",
    "merged_BTCETH"
   ]
  },
  {
   "cell_type": "code",
   "execution_count": 13,
   "id": "17f0c6dc",
   "metadata": {},
   "outputs": [
    {
     "data": {
      "text/plain": [
       "<matplotlib.axes._subplots.AxesSubplot at 0x14fba08e548>"
      ]
     },
     "execution_count": 13,
     "metadata": {},
     "output_type": "execute_result"
    },
    {
     "data": {
      "image/png": "[encoded data removed]",
      "text/plain": [
       "<Figure size 432x288 with 1 Axes>"
      ]
     },
     "metadata": {
      "needs_background": "light"
     },
     "output_type": "display_data"
    }
   ],
   "source": [
    "merged_BTCETH[['BTC_norm', 'ETH_norm']].plot(title='new')"
   ]
  },
  {
   "cell_type": "markdown",
   "id": "e3baceec",
   "metadata": {},
   "source": [
    "### Returns data for better understanding"
   ]
  },
  {
   "cell_type": "code",
   "execution_count": 14,
   "id": "46f992d3",
   "metadata": {},
   "outputs": [
    {
     "data": {
      "text/html": [
       "<div>\n",
       "<style scoped>\n",
       "    .dataframe tbody tr th:only-of-type {\n",
       "        vertical-align: middle;\n",
       "    }\n",
       "\n",
       "    .dataframe tbody tr th {\n",
       "        vertical-align: top;\n",
       "    }\n",
       "\n",
       "    .dataframe thead th {\n",
       "        text-align: right;\n",
       "    }\n",
       "</style>\n",
       "<table border=\"1\" class=\"dataframe\">\n",
       "  <thead>\n",
       "    <tr style=\"text-align: right;\">\n",
       "      <th></th>\n",
       "      <th>BTCUSD</th>\n",
       "      <th>ETHUSD</th>\n",
       "      <th>BTC_norm</th>\n",
       "      <th>ETH_norm</th>\n",
       "    </tr>\n",
       "    <tr>\n",
       "      <th>Date</th>\n",
       "      <th></th>\n",
       "      <th></th>\n",
       "      <th></th>\n",
       "      <th></th>\n",
       "    </tr>\n",
       "  </thead>\n",
       "  <tbody>\n",
       "    <tr>\n",
       "      <th>2016-10-14</th>\n",
       "      <td>NaN</td>\n",
       "      <td>NaN</td>\n",
       "      <td>NaN</td>\n",
       "      <td>NaN</td>\n",
       "    </tr>\n",
       "    <tr>\n",
       "      <th>2016-10-15</th>\n",
       "      <td>0.000204</td>\n",
       "      <td>0.002517</td>\n",
       "      <td>0.000204</td>\n",
       "      <td>0.002517</td>\n",
       "    </tr>\n",
       "    <tr>\n",
       "      <th>2016-10-16</th>\n",
       "      <td>0.005892</td>\n",
       "      <td>0.000000</td>\n",
       "      <td>0.005892</td>\n",
       "      <td>0.000000</td>\n",
       "    </tr>\n",
       "    <tr>\n",
       "      <th>2016-10-17</th>\n",
       "      <td>-0.003676</td>\n",
       "      <td>0.000837</td>\n",
       "      <td>-0.003676</td>\n",
       "      <td>0.000837</td>\n",
       "    </tr>\n",
       "    <tr>\n",
       "      <th>2016-10-18</th>\n",
       "      <td>-0.006958</td>\n",
       "      <td>0.048495</td>\n",
       "      <td>-0.006958</td>\n",
       "      <td>0.048495</td>\n",
       "    </tr>\n",
       "  </tbody>\n",
       "</table>\n",
       "</div>"
      ],
      "text/plain": [
       "              BTCUSD    ETHUSD  BTC_norm  ETH_norm\n",
       "Date                                              \n",
       "2016-10-14       NaN       NaN       NaN       NaN\n",
       "2016-10-15  0.000204  0.002517  0.000204  0.002517\n",
       "2016-10-16  0.005892  0.000000  0.005892  0.000000\n",
       "2016-10-17 -0.003676  0.000837 -0.003676  0.000837\n",
       "2016-10-18 -0.006958  0.048495 -0.006958  0.048495"
      ]
     },
     "execution_count": 14,
     "metadata": {},
     "output_type": "execute_result"
    }
   ],
   "source": [
    "btceth_returns = merged_BTCETH.pct_change()\n",
    "btceth_returns.head()"
   ]
  },
  {
   "cell_type": "code",
   "execution_count": 15,
   "id": "28f69307",
   "metadata": {},
   "outputs": [
    {
     "data": {
      "text/plain": [
       "<matplotlib.axes._subplots.AxesSubplot at 0x14fb7b92b08>"
      ]
     },
     "execution_count": 15,
     "metadata": {},
     "output_type": "execute_result"
    },
    {
     "data": {
      "image/png": "[encoded data removed]",
      "text/plain": [
       "<Figure size 432x288 with 1 Axes>"
      ]
     },
     "metadata": {
      "needs_background": "light"
     },
     "output_type": "display_data"
    }
   ],
   "source": [
    "# Plot the daily returns of Bitcoin and Ethernet\n",
    "btceth_returns[[\"BTCUSD\",\"ETHUSD\"]].plot(alpha=0.8, color=[\"r\",\"g\"]) "
   ]
  },
  {
   "cell_type": "code",
   "execution_count": 16,
   "id": "dbe1c59d",
   "metadata": {},
   "outputs": [
    {
     "data": {
      "text/plain": [
       "<matplotlib.axes._subplots.AxesSubplot at 0x14fba2a41c8>"
      ]
     },
     "execution_count": 16,
     "metadata": {},
     "output_type": "execute_result"
    },
    {
     "data": {
      "image/png": "[encoded data removed]",
      "text/plain": [
       "<Figure size 432x288 with 1 Axes>"
      ]
     },
     "metadata": {
      "needs_background": "light"
     },
     "output_type": "display_data"
    }
   ],
   "source": [
    "btceth_returns[[\"BTC_norm\",\"ETH_norm\"]].plot(alpha=0.5)"
   ]
  },
  {
   "cell_type": "markdown",
   "id": "c77ae2b4",
   "metadata": {},
   "source": [
    "### Correlations"
   ]
  },
  {
   "cell_type": "code",
   "execution_count": 17,
   "id": "0b269558",
   "metadata": {},
   "outputs": [
    {
     "data": {
      "text/html": [
       "<div>\n",
       "<style scoped>\n",
       "    .dataframe tbody tr th:only-of-type {\n",
       "        vertical-align: middle;\n",
       "    }\n",
       "\n",
       "    .dataframe tbody tr th {\n",
       "        vertical-align: top;\n",
       "    }\n",
       "\n",
       "    .dataframe thead th {\n",
       "        text-align: right;\n",
       "    }\n",
       "</style>\n",
       "<table border=\"1\" class=\"dataframe\">\n",
       "  <thead>\n",
       "    <tr style=\"text-align: right;\">\n",
       "      <th></th>\n",
       "      <th>BTCUSD</th>\n",
       "      <th>ETHUSD</th>\n",
       "      <th>BTC_norm</th>\n",
       "      <th>ETH_norm</th>\n",
       "    </tr>\n",
       "  </thead>\n",
       "  <tbody>\n",
       "    <tr>\n",
       "      <th>BTCUSD</th>\n",
       "      <td>1.000000</td>\n",
       "      <td>0.667167</td>\n",
       "      <td>1.000000</td>\n",
       "      <td>0.667167</td>\n",
       "    </tr>\n",
       "    <tr>\n",
       "      <th>ETHUSD</th>\n",
       "      <td>0.667167</td>\n",
       "      <td>1.000000</td>\n",
       "      <td>0.667167</td>\n",
       "      <td>1.000000</td>\n",
       "    </tr>\n",
       "    <tr>\n",
       "      <th>BTC_norm</th>\n",
       "      <td>1.000000</td>\n",
       "      <td>0.667167</td>\n",
       "      <td>1.000000</td>\n",
       "      <td>0.667167</td>\n",
       "    </tr>\n",
       "    <tr>\n",
       "      <th>ETH_norm</th>\n",
       "      <td>0.667167</td>\n",
       "      <td>1.000000</td>\n",
       "      <td>0.667167</td>\n",
       "      <td>1.000000</td>\n",
       "    </tr>\n",
       "  </tbody>\n",
       "</table>\n",
       "</div>"
      ],
      "text/plain": [
       "            BTCUSD    ETHUSD  BTC_norm  ETH_norm\n",
       "BTCUSD    1.000000  0.667167  1.000000  0.667167\n",
       "ETHUSD    0.667167  1.000000  0.667167  1.000000\n",
       "BTC_norm  1.000000  0.667167  1.000000  0.667167\n",
       "ETH_norm  0.667167  1.000000  0.667167  1.000000"
      ]
     },
     "execution_count": 17,
     "metadata": {},
     "output_type": "execute_result"
    }
   ],
   "source": [
    "correlation = btceth_returns.corr()\n",
    "correlation"
   ]
  },
  {
   "cell_type": "markdown",
   "id": "67f3973b",
   "metadata": {},
   "source": [
    "### Create Bins for perspective"
   ]
  },
  {
   "cell_type": "code",
   "execution_count": null,
   "id": "1f1f6c7c",
   "metadata": {},
   "outputs": [],
   "source": []
  },
  {
   "cell_type": "code",
   "execution_count": null,
   "id": "52994c4d",
   "metadata": {},
   "outputs": [],
   "source": []
  },
  {
   "cell_type": "code",
   "execution_count": 18,
   "id": "864f50a8",
   "metadata": {},
   "outputs": [],
   "source": [
    "# Create the variable bins to define our bounds for when we cut the dataframe.\n",
    "bins = [0, 10000, 35000, 50000, 70000]\n",
    "\n",
    "# Create names for the bins\n",
    "group_names = [\"Low\", \"Moderate\", \"Above Average\", \"High\"]"
   ]
  },
  {
   "cell_type": "markdown",
   "id": "95157d75",
   "metadata": {},
   "source": [
    "### Label Price Ranges According to the Corresponding Bin¶\n"
   ]
  },
  {
   "cell_type": "code",
   "execution_count": 19,
   "id": "c6839378",
   "metadata": {},
   "outputs": [
    {
     "data": {
      "text/html": [
       "<div>\n",
       "<style scoped>\n",
       "    .dataframe tbody tr th:only-of-type {\n",
       "        vertical-align: middle;\n",
       "    }\n",
       "\n",
       "    .dataframe tbody tr th {\n",
       "        vertical-align: top;\n",
       "    }\n",
       "\n",
       "    .dataframe thead th {\n",
       "        text-align: right;\n",
       "    }\n",
       "</style>\n",
       "<table border=\"1\" class=\"dataframe\">\n",
       "  <thead>\n",
       "    <tr style=\"text-align: right;\">\n",
       "      <th></th>\n",
       "      <th>BTCUSD</th>\n",
       "      <th>ETHUSD</th>\n",
       "      <th>BTC_norm</th>\n",
       "      <th>ETH_norm</th>\n",
       "      <th>BTC_Price_Range</th>\n",
       "    </tr>\n",
       "    <tr>\n",
       "      <th>Date</th>\n",
       "      <th></th>\n",
       "      <th></th>\n",
       "      <th></th>\n",
       "      <th></th>\n",
       "      <th></th>\n",
       "    </tr>\n",
       "  </thead>\n",
       "  <tbody>\n",
       "    <tr>\n",
       "      <th>2016-10-14</th>\n",
       "      <td>638.03</td>\n",
       "      <td>11.92</td>\n",
       "      <td>0.010034</td>\n",
       "      <td>0.002852</td>\n",
       "      <td>Low</td>\n",
       "    </tr>\n",
       "    <tr>\n",
       "      <th>2016-10-15</th>\n",
       "      <td>638.16</td>\n",
       "      <td>11.95</td>\n",
       "      <td>0.010036</td>\n",
       "      <td>0.002859</td>\n",
       "      <td>Low</td>\n",
       "    </tr>\n",
       "    <tr>\n",
       "      <th>2016-10-16</th>\n",
       "      <td>641.92</td>\n",
       "      <td>11.95</td>\n",
       "      <td>0.010095</td>\n",
       "      <td>0.002859</td>\n",
       "      <td>Low</td>\n",
       "    </tr>\n",
       "    <tr>\n",
       "      <th>2016-10-17</th>\n",
       "      <td>639.56</td>\n",
       "      <td>11.96</td>\n",
       "      <td>0.010058</td>\n",
       "      <td>0.002861</td>\n",
       "      <td>Low</td>\n",
       "    </tr>\n",
       "    <tr>\n",
       "      <th>2016-10-18</th>\n",
       "      <td>635.11</td>\n",
       "      <td>12.54</td>\n",
       "      <td>0.009988</td>\n",
       "      <td>0.003000</td>\n",
       "      <td>Low</td>\n",
       "    </tr>\n",
       "  </tbody>\n",
       "</table>\n",
       "</div>"
      ],
      "text/plain": [
       "            BTCUSD  ETHUSD  BTC_norm  ETH_norm BTC_Price_Range\n",
       "Date                                                          \n",
       "2016-10-14  638.03   11.92  0.010034  0.002852             Low\n",
       "2016-10-15  638.16   11.95  0.010036  0.002859             Low\n",
       "2016-10-16  641.92   11.95  0.010095  0.002859             Low\n",
       "2016-10-17  639.56   11.96  0.010058  0.002861             Low\n",
       "2016-10-18  635.11   12.54  0.009988  0.003000             Low"
      ]
     },
     "execution_count": 19,
     "metadata": {},
     "output_type": "execute_result"
    }
   ],
   "source": [
    "# Add a column named \"Salary Level\" to people_df and slice the data into the bins\n",
    "merged_BTCETH[\"BTC_Price_Range\"] = pd.cut(merged_BTCETH[\"BTCUSD\"], bins, labels=group_names)\n",
    "\n",
    "merged_BTCETH.head()\n"
   ]
  },
  {
   "cell_type": "markdown",
   "id": "b164827e",
   "metadata": {},
   "source": [
    "### Create Parallel Plot"
   ]
  },
  {
   "cell_type": "code",
   "execution_count": 20,
   "id": "4d9ba96f",
   "metadata": {},
   "outputs": [],
   "source": [
    "#import calendar\n",
    "# merged_BTCETH['Year'] = merged_BTCETH[\"Date\"].dt.year\n"
   ]
  },
  {
   "cell_type": "code",
   "execution_count": null,
   "id": "fcb87c4c",
   "metadata": {},
   "outputs": [],
   "source": []
  },
  {
   "cell_type": "code",
   "execution_count": 21,
   "id": "3cb19888",
   "metadata": {},
   "outputs": [
    {
     "data": {
      "text/html": [
       "<div>\n",
       "<style scoped>\n",
       "    .dataframe tbody tr th:only-of-type {\n",
       "        vertical-align: middle;\n",
       "    }\n",
       "\n",
       "    .dataframe tbody tr th {\n",
       "        vertical-align: top;\n",
       "    }\n",
       "\n",
       "    .dataframe thead th {\n",
       "        text-align: right;\n",
       "    }\n",
       "</style>\n",
       "<table border=\"1\" class=\"dataframe\">\n",
       "  <thead>\n",
       "    <tr style=\"text-align: right;\">\n",
       "      <th></th>\n",
       "      <th>Date</th>\n",
       "      <th>BTCUSD</th>\n",
       "      <th>ETHUSD</th>\n",
       "      <th>BTC_norm</th>\n",
       "      <th>ETH_norm</th>\n",
       "      <th>BTC_Price_Range</th>\n",
       "    </tr>\n",
       "  </thead>\n",
       "  <tbody>\n",
       "    <tr>\n",
       "      <th>0</th>\n",
       "      <td>2016-10-14</td>\n",
       "      <td>638.03</td>\n",
       "      <td>11.92</td>\n",
       "      <td>0.010034</td>\n",
       "      <td>0.002852</td>\n",
       "      <td>Low</td>\n",
       "    </tr>\n",
       "    <tr>\n",
       "      <th>1</th>\n",
       "      <td>2016-10-15</td>\n",
       "      <td>638.16</td>\n",
       "      <td>11.95</td>\n",
       "      <td>0.010036</td>\n",
       "      <td>0.002859</td>\n",
       "      <td>Low</td>\n",
       "    </tr>\n",
       "    <tr>\n",
       "      <th>2</th>\n",
       "      <td>2016-10-16</td>\n",
       "      <td>641.92</td>\n",
       "      <td>11.95</td>\n",
       "      <td>0.010095</td>\n",
       "      <td>0.002859</td>\n",
       "      <td>Low</td>\n",
       "    </tr>\n",
       "    <tr>\n",
       "      <th>3</th>\n",
       "      <td>2016-10-17</td>\n",
       "      <td>639.56</td>\n",
       "      <td>11.96</td>\n",
       "      <td>0.010058</td>\n",
       "      <td>0.002861</td>\n",
       "      <td>Low</td>\n",
       "    </tr>\n",
       "    <tr>\n",
       "      <th>4</th>\n",
       "      <td>2016-10-18</td>\n",
       "      <td>635.11</td>\n",
       "      <td>12.54</td>\n",
       "      <td>0.009988</td>\n",
       "      <td>0.003000</td>\n",
       "      <td>Low</td>\n",
       "    </tr>\n",
       "  </tbody>\n",
       "</table>\n",
       "</div>"
      ],
      "text/plain": [
       "        Date  BTCUSD  ETHUSD  BTC_norm  ETH_norm BTC_Price_Range\n",
       "0 2016-10-14  638.03   11.92  0.010034  0.002852             Low\n",
       "1 2016-10-15  638.16   11.95  0.010036  0.002859             Low\n",
       "2 2016-10-16  641.92   11.95  0.010095  0.002859             Low\n",
       "3 2016-10-17  639.56   11.96  0.010058  0.002861             Low\n",
       "4 2016-10-18  635.11   12.54  0.009988  0.003000             Low"
      ]
     },
     "execution_count": 21,
     "metadata": {},
     "output_type": "execute_result"
    }
   ],
   "source": [
    "merged_BTCETH_new=merged_BTCETH.reset_index()\n",
    "merged_BTCETH_new.head()"
   ]
  },
  {
   "cell_type": "code",
   "execution_count": 22,
   "id": "a7b32a69",
   "metadata": {},
   "outputs": [
    {
     "data": {
      "text/plain": [
       "Date               datetime64[ns]\n",
       "BTCUSD                    float64\n",
       "ETHUSD                    float64\n",
       "BTC_norm                  float64\n",
       "ETH_norm                  float64\n",
       "BTC_Price_Range          category\n",
       "dtype: object"
      ]
     },
     "execution_count": 22,
     "metadata": {},
     "output_type": "execute_result"
    }
   ],
   "source": [
    "merged_BTCETH_new.dtypes"
   ]
  },
  {
   "cell_type": "code",
   "execution_count": 23,
   "id": "f4e706fd",
   "metadata": {},
   "outputs": [
    {
     "data": {
      "text/html": [
       "<div>\n",
       "<style scoped>\n",
       "    .dataframe tbody tr th:only-of-type {\n",
       "        vertical-align: middle;\n",
       "    }\n",
       "\n",
       "    .dataframe tbody tr th {\n",
       "        vertical-align: top;\n",
       "    }\n",
       "\n",
       "    .dataframe thead th {\n",
       "        text-align: right;\n",
       "    }\n",
       "</style>\n",
       "<table border=\"1\" class=\"dataframe\">\n",
       "  <thead>\n",
       "    <tr style=\"text-align: right;\">\n",
       "      <th></th>\n",
       "      <th>Date</th>\n",
       "      <th>BTCUSD</th>\n",
       "      <th>ETHUSD</th>\n",
       "      <th>BTC_norm</th>\n",
       "      <th>ETH_norm</th>\n",
       "      <th>BTC_Price_Range</th>\n",
       "      <th>Year</th>\n",
       "    </tr>\n",
       "  </thead>\n",
       "  <tbody>\n",
       "    <tr>\n",
       "      <th>0</th>\n",
       "      <td>2016-10-14</td>\n",
       "      <td>638.03</td>\n",
       "      <td>11.92</td>\n",
       "      <td>0.010034</td>\n",
       "      <td>0.002852</td>\n",
       "      <td>Low</td>\n",
       "      <td>2016</td>\n",
       "    </tr>\n",
       "    <tr>\n",
       "      <th>1</th>\n",
       "      <td>2016-10-15</td>\n",
       "      <td>638.16</td>\n",
       "      <td>11.95</td>\n",
       "      <td>0.010036</td>\n",
       "      <td>0.002859</td>\n",
       "      <td>Low</td>\n",
       "      <td>2016</td>\n",
       "    </tr>\n",
       "    <tr>\n",
       "      <th>2</th>\n",
       "      <td>2016-10-16</td>\n",
       "      <td>641.92</td>\n",
       "      <td>11.95</td>\n",
       "      <td>0.010095</td>\n",
       "      <td>0.002859</td>\n",
       "      <td>Low</td>\n",
       "      <td>2016</td>\n",
       "    </tr>\n",
       "    <tr>\n",
       "      <th>3</th>\n",
       "      <td>2016-10-17</td>\n",
       "      <td>639.56</td>\n",
       "      <td>11.96</td>\n",
       "      <td>0.010058</td>\n",
       "      <td>0.002861</td>\n",
       "      <td>Low</td>\n",
       "      <td>2016</td>\n",
       "    </tr>\n",
       "    <tr>\n",
       "      <th>4</th>\n",
       "      <td>2016-10-18</td>\n",
       "      <td>635.11</td>\n",
       "      <td>12.54</td>\n",
       "      <td>0.009988</td>\n",
       "      <td>0.003000</td>\n",
       "      <td>Low</td>\n",
       "      <td>2016</td>\n",
       "    </tr>\n",
       "    <tr>\n",
       "      <th>...</th>\n",
       "      <td>...</td>\n",
       "      <td>...</td>\n",
       "      <td>...</td>\n",
       "      <td>...</td>\n",
       "      <td>...</td>\n",
       "      <td>...</td>\n",
       "      <td>...</td>\n",
       "    </tr>\n",
       "    <tr>\n",
       "      <th>1808</th>\n",
       "      <td>2021-09-26</td>\n",
       "      <td>43228.50</td>\n",
       "      <td>3064.64</td>\n",
       "      <td>0.679820</td>\n",
       "      <td>0.733201</td>\n",
       "      <td>Above Average</td>\n",
       "      <td>2021</td>\n",
       "    </tr>\n",
       "    <tr>\n",
       "      <th>1809</th>\n",
       "      <td>2021-09-27</td>\n",
       "      <td>42171.70</td>\n",
       "      <td>2927.15</td>\n",
       "      <td>0.663200</td>\n",
       "      <td>0.700307</td>\n",
       "      <td>Above Average</td>\n",
       "      <td>2021</td>\n",
       "    </tr>\n",
       "    <tr>\n",
       "      <th>1810</th>\n",
       "      <td>2021-09-28</td>\n",
       "      <td>41049.00</td>\n",
       "      <td>2807.19</td>\n",
       "      <td>0.645544</td>\n",
       "      <td>0.671607</td>\n",
       "      <td>Above Average</td>\n",
       "      <td>2021</td>\n",
       "    </tr>\n",
       "    <tr>\n",
       "      <th>1811</th>\n",
       "      <td>2021-09-29</td>\n",
       "      <td>41522.10</td>\n",
       "      <td>2848.28</td>\n",
       "      <td>0.652984</td>\n",
       "      <td>0.681438</td>\n",
       "      <td>Above Average</td>\n",
       "      <td>2021</td>\n",
       "    </tr>\n",
       "    <tr>\n",
       "      <th>1812</th>\n",
       "      <td>2021-09-30</td>\n",
       "      <td>43824.40</td>\n",
       "      <td>3000.45</td>\n",
       "      <td>0.689191</td>\n",
       "      <td>0.717844</td>\n",
       "      <td>Above Average</td>\n",
       "      <td>2021</td>\n",
       "    </tr>\n",
       "  </tbody>\n",
       "</table>\n",
       "<p>1813 rows × 7 columns</p>\n",
       "</div>"
      ],
      "text/plain": [
       "           Date    BTCUSD   ETHUSD  BTC_norm  ETH_norm BTC_Price_Range  Year\n",
       "0    2016-10-14    638.03    11.92  0.010034  0.002852             Low  2016\n",
       "1    2016-10-15    638.16    11.95  0.010036  0.002859             Low  2016\n",
       "2    2016-10-16    641.92    11.95  0.010095  0.002859             Low  2016\n",
       "3    2016-10-17    639.56    11.96  0.010058  0.002861             Low  2016\n",
       "4    2016-10-18    635.11    12.54  0.009988  0.003000             Low  2016\n",
       "...         ...       ...      ...       ...       ...             ...   ...\n",
       "1808 2021-09-26  43228.50  3064.64  0.679820  0.733201   Above Average  2021\n",
       "1809 2021-09-27  42171.70  2927.15  0.663200  0.700307   Above Average  2021\n",
       "1810 2021-09-28  41049.00  2807.19  0.645544  0.671607   Above Average  2021\n",
       "1811 2021-09-29  41522.10  2848.28  0.652984  0.681438   Above Average  2021\n",
       "1812 2021-09-30  43824.40  3000.45  0.689191  0.717844   Above Average  2021\n",
       "\n",
       "[1813 rows x 7 columns]"
      ]
     },
     "execution_count": 23,
     "metadata": {},
     "output_type": "execute_result"
    }
   ],
   "source": [
    "merged_BTCETH_new['Date'].dt.year\n",
    "merged_BTCETH_new[\"Year\"] = merged_BTCETH_new['Date'].dt.year\n",
    "merged_BTCETH_year_mean= merged_BTCETH_new.groupby('Year')[[\"BTCUSD\",\"ETHUSD\",\"BTC_norm\",\"ETH_norm\"]].mean()\n",
    "merged_BTCETH_year_mean =merged_BTCETH_year_mean.reset_index()\n",
    "merged_BTCETH_new"
   ]
  },
  {
   "cell_type": "code",
   "execution_count": 24,
   "id": "778bd808",
   "metadata": {},
   "outputs": [],
   "source": [
    "#import calendar\n",
    "# merged_BTCETH = merged_BTCETH[\"Date\"].dt.year\n",
    "\n",
    "#combined_final = merged_BTCETH\n",
    "#combined_final = combined_final.set_index('Date')\n",
    "#annual = combined_final.resample(\"A\").mean()\n",
    "#annual\n"
   ]
  },
  {
   "cell_type": "code",
   "execution_count": 25,
   "id": "0920449a",
   "metadata": {},
   "outputs": [
    {
     "ename": "AttributeError",
     "evalue": "module 'plotly.express' has no attribute 'io'",
     "output_type": "error",
     "traceback": [
      "\u001b[1;31m---------------------------------------------------------------------------\u001b[0m",
      "\u001b[1;31mAttributeError\u001b[0m                            Traceback (most recent call last)",
      "\u001b[1;32m<ipython-input-25-d1c097f36e7d>\u001b[0m in \u001b[0;36m<module>\u001b[1;34m\u001b[0m\n\u001b[0;32m     10\u001b[0m     }\n\u001b[0;32m     11\u001b[0m )\n\u001b[1;32m---> 12\u001b[1;33m \u001b[0mpx\u001b[0m\u001b[1;33m.\u001b[0m\u001b[0mio\u001b[0m\u001b[1;33m.\u001b[0m\u001b[0mwrite_image\u001b[0m\u001b[1;33m(\u001b[0m\u001b[1;34m\"btc.png\"\u001b[0m\u001b[1;33m)\u001b[0m\u001b[1;33m\u001b[0m\u001b[1;33m\u001b[0m\u001b[0m\n\u001b[0m",
      "\u001b[1;31mAttributeError\u001b[0m: module 'plotly.express' has no attribute 'io'"
     ]
    }
   ],
   "source": [
    "# Plot data using parallel_categories\n",
    "px.parallel_categories(\n",
    "    merged_BTCETH_year_mean,\n",
    "    dimensions=[\"Year\", \"BTCUSD\", \"ETHUSD\"],\n",
    "    color_continuous_scale=px.colors.sequential.Inferno,\n",
    "    labels={\n",
    "        \"Year\" : \"Year\",\n",
    "        \"BTCUSD\": \"BTC Closing Price\",\n",
    "        \"ETHUSD\": \"ETH Closing Price\",\n",
    "    }\n",
    ")\n",
    "px.io.write_image(\"btc.png\")\n"
   ]
  },
  {
   "cell_type": "code",
   "execution_count": null,
   "id": "03b5761b",
   "metadata": {},
   "outputs": [],
   "source": [
    "merged_returns = merged_BTCETH[[\"BTCUSD\",\"ETHUSD\"]].pct_change()\n",
    "merged_returns\n",
    "correlation = merged_returns.corr()\n",
    "correlation\n",
    "sns.heatmap(correlation)"
   ]
  },
  {
   "cell_type": "code",
   "execution_count": null,
   "id": "94903617",
   "metadata": {},
   "outputs": [],
   "source": [
    "# Create scatter plot\n",
    "px.scatter(merged_BTCETH_new, x=\"Date\", y=\"BTCUSD\", size=\"BTCUSD\")"
   ]
  },
  {
   "cell_type": "code",
   "execution_count": null,
   "id": "055153bf",
   "metadata": {},
   "outputs": [],
   "source": [
    "# Create scatter plot\n",
    "px.scatter(merged_BTCETH_new, x=\"Date\", y=\"ETHUSD\", size=\"ETHUSD\", color='ETHUSD')"
   ]
  },
  {
   "cell_type": "code",
   "execution_count": null,
   "id": "e06d7265",
   "metadata": {},
   "outputs": [],
   "source": [
    "# Create scatter plot comparing average sale price and cost of living index\n",
    "px.scatter(\n",
    "    merged_BTCETH_new,  # feed it the df\n",
    "    x=\"Date\",  # x, identify the desired columns\n",
    "    y=[\"BTCUSD\",\"ETHUSD\"],  # y\n",
    "    size=\"BTC_norm\",  # z\n",
    "    color=\"BTC_Price_Range\",  # z2 - many dimensions!\n",
    ")\n"
   ]
  },
  {
   "cell_type": "code",
   "execution_count": null,
   "id": "58a86b39",
   "metadata": {},
   "outputs": [],
   "source": [
    "# Create area plot\n",
    "px.area(\n",
    "    merged_BTCETH_new,\n",
    "    x=\"Date\",\n",
    "    y=\"BTCUSD\",\n",
    "    color=\"BTC_Price_Range\",\n",
    "    line_group=\"BTC_Price_Range\",\n",
    ")"
   ]
  },
  {
   "cell_type": "code",
   "execution_count": null,
   "id": "0a7d7be2",
   "metadata": {},
   "outputs": [],
   "source": [
    "# Create area plot\n",
    "px.area(\n",
    "    merged_BTCETH_new,\n",
    "    x=\"Date\",\n",
    "    y=\"ETHUSD\",\n",
    "    color=\"ETH_norm\",\n",
    "    line_group=\"ETHUSD\",\n",
    ")"
   ]
  },
  {
   "cell_type": "code",
   "execution_count": null,
   "id": "b3e208aa",
   "metadata": {},
   "outputs": [],
   "source": []
  },
  {
   "cell_type": "code",
   "execution_count": null,
   "id": "f0796f6c",
   "metadata": {},
   "outputs": [],
   "source": []
  }
 ],
 "metadata": {
  "kernelspec": {
   "display_name": "Python [conda env:pyvizenv2] *",
   "language": "python",
   "name": "conda-env-pyvizenv2-py"
  },
  "language_info": {
   "codemirror_mode": {
    "name": "ipython",
    "version": 3
   },
   "file_extension": ".py",
   "mimetype": "text/x-python",
   "name": "python",
   "nbconvert_exporter": "python",
   "pygments_lexer": "ipython3",
   "version": "3.7.10"
  }
 },
 "nbformat": 4,
 "nbformat_minor": 5
}
