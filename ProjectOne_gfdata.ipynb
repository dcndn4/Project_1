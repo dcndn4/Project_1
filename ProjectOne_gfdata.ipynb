{
 "cells": [
  {
   "cell_type": "markdown",
   "id": "8728a986",
   "metadata": {},
   "source": [
    "# Project 1\n",
    "Alex\n",
    "Claire\n",
    "Steve\n",
    "Sylvia\n",
    "\n",
    "This project explores data analysis of cryptocurrencies."
   ]
  },
  {
   "cell_type": "code",
   "execution_count": 22,
   "id": "583b1ab4",
   "metadata": {},
   "outputs": [],
   "source": [
    "import os\n",
    "from dotenv import load_dotenv\n",
    "from pathlib import Path\n",
    "from requests import Request, Session\n",
    "from requests.exceptions import ConnectionError, Timeout, TooManyRedirects\n",
    "import json\n",
    "import matplotlib.pyplot as plt\n",
    "import plotly.express as px\n",
    "import seaborn as sns\n",
    "import pandas as pd"
   ]
  },
  {
   "cell_type": "markdown",
   "id": "eeec1c92",
   "metadata": {},
   "source": [
    "## Import data"
   ]
  },
  {
   "cell_type": "code",
   "execution_count": 23,
   "id": "05c0c496",
   "metadata": {},
   "outputs": [
    {
     "name": "stdout",
     "output_type": "stream",
     "text": [
      "BTCUSD    float64\n",
      "dtype: object\n"
     ]
    },
    {
     "data": {
      "text/html": [
       "<div>\n",
       "<style scoped>\n",
       "    .dataframe tbody tr th:only-of-type {\n",
       "        vertical-align: middle;\n",
       "    }\n",
       "\n",
       "    .dataframe tbody tr th {\n",
       "        vertical-align: top;\n",
       "    }\n",
       "\n",
       "    .dataframe thead th {\n",
       "        text-align: right;\n",
       "    }\n",
       "</style>\n",
       "<table border=\"1\" class=\"dataframe\">\n",
       "  <thead>\n",
       "    <tr style=\"text-align: right;\">\n",
       "      <th></th>\n",
       "      <th>BTCUSD</th>\n",
       "    </tr>\n",
       "    <tr>\n",
       "      <th>Date</th>\n",
       "      <th></th>\n",
       "    </tr>\n",
       "  </thead>\n",
       "  <tbody>\n",
       "    <tr>\n",
       "      <th>2015-11-19</th>\n",
       "      <td>326.41</td>\n",
       "    </tr>\n",
       "    <tr>\n",
       "      <th>2015-11-20</th>\n",
       "      <td>322.39</td>\n",
       "    </tr>\n",
       "    <tr>\n",
       "      <th>2015-11-21</th>\n",
       "      <td>327.00</td>\n",
       "    </tr>\n",
       "    <tr>\n",
       "      <th>2015-11-22</th>\n",
       "      <td>323.71</td>\n",
       "    </tr>\n",
       "    <tr>\n",
       "      <th>2015-11-23</th>\n",
       "      <td>323.00</td>\n",
       "    </tr>\n",
       "    <tr>\n",
       "      <th>...</th>\n",
       "      <td>...</td>\n",
       "    </tr>\n",
       "    <tr>\n",
       "      <th>2021-09-26</th>\n",
       "      <td>43228.50</td>\n",
       "    </tr>\n",
       "    <tr>\n",
       "      <th>2021-09-27</th>\n",
       "      <td>42171.70</td>\n",
       "    </tr>\n",
       "    <tr>\n",
       "      <th>2021-09-28</th>\n",
       "      <td>41049.00</td>\n",
       "    </tr>\n",
       "    <tr>\n",
       "      <th>2021-09-29</th>\n",
       "      <td>41522.10</td>\n",
       "    </tr>\n",
       "    <tr>\n",
       "      <th>2021-09-30</th>\n",
       "      <td>43824.40</td>\n",
       "    </tr>\n",
       "  </tbody>\n",
       "</table>\n",
       "<p>2143 rows × 1 columns</p>\n",
       "</div>"
      ],
      "text/plain": [
       "              BTCUSD\n",
       "Date                \n",
       "2015-11-19    326.41\n",
       "2015-11-20    322.39\n",
       "2015-11-21    327.00\n",
       "2015-11-22    323.71\n",
       "2015-11-23    323.00\n",
       "...              ...\n",
       "2021-09-26  43228.50\n",
       "2021-09-27  42171.70\n",
       "2021-09-28  41049.00\n",
       "2021-09-29  41522.10\n",
       "2021-09-30  43824.40\n",
       "\n",
       "[2143 rows x 1 columns]"
      ]
     },
     "execution_count": 23,
     "metadata": {},
     "output_type": "execute_result"
    }
   ],
   "source": [
    "filepath=Path(\"Resources/BTC_c_.csv\")\n",
    "\n",
    "BTC_data = pd.read_csv(filepath, index_col=\"Date\", parse_dates=True)\n",
    "print(BTC_data.dtypes)\n",
    "\n",
    "\n",
    "#BTC_data['Date'] = pd.to_datetime(BTC_data['Date'])\n",
    "\n",
    "#print(BTC_data.dtypes)\n",
    "BTC_data"
   ]
  },
  {
   "cell_type": "code",
   "execution_count": 24,
   "id": "8c75e425",
   "metadata": {},
   "outputs": [
    {
     "name": "stdout",
     "output_type": "stream",
     "text": [
      "ETHUSD    float64\n",
      "dtype: object\n"
     ]
    },
    {
     "data": {
      "text/html": [
       "<div>\n",
       "<style scoped>\n",
       "    .dataframe tbody tr th:only-of-type {\n",
       "        vertical-align: middle;\n",
       "    }\n",
       "\n",
       "    .dataframe tbody tr th {\n",
       "        vertical-align: top;\n",
       "    }\n",
       "\n",
       "    .dataframe thead th {\n",
       "        text-align: right;\n",
       "    }\n",
       "</style>\n",
       "<table border=\"1\" class=\"dataframe\">\n",
       "  <thead>\n",
       "    <tr style=\"text-align: right;\">\n",
       "      <th></th>\n",
       "      <th>ETHUSD</th>\n",
       "    </tr>\n",
       "    <tr>\n",
       "      <th>Date</th>\n",
       "      <th></th>\n",
       "    </tr>\n",
       "  </thead>\n",
       "  <tbody>\n",
       "    <tr>\n",
       "      <th>2016-10-14</th>\n",
       "      <td>11.92</td>\n",
       "    </tr>\n",
       "    <tr>\n",
       "      <th>2016-10-15</th>\n",
       "      <td>11.95</td>\n",
       "    </tr>\n",
       "    <tr>\n",
       "      <th>2016-10-16</th>\n",
       "      <td>11.95</td>\n",
       "    </tr>\n",
       "    <tr>\n",
       "      <th>2016-10-17</th>\n",
       "      <td>11.96</td>\n",
       "    </tr>\n",
       "    <tr>\n",
       "      <th>2016-10-18</th>\n",
       "      <td>12.54</td>\n",
       "    </tr>\n",
       "    <tr>\n",
       "      <th>...</th>\n",
       "      <td>...</td>\n",
       "    </tr>\n",
       "    <tr>\n",
       "      <th>2021-09-26</th>\n",
       "      <td>3064.64</td>\n",
       "    </tr>\n",
       "    <tr>\n",
       "      <th>2021-09-27</th>\n",
       "      <td>2927.15</td>\n",
       "    </tr>\n",
       "    <tr>\n",
       "      <th>2021-09-28</th>\n",
       "      <td>2807.19</td>\n",
       "    </tr>\n",
       "    <tr>\n",
       "      <th>2021-09-29</th>\n",
       "      <td>2848.28</td>\n",
       "    </tr>\n",
       "    <tr>\n",
       "      <th>2021-09-30</th>\n",
       "      <td>3000.45</td>\n",
       "    </tr>\n",
       "  </tbody>\n",
       "</table>\n",
       "<p>1813 rows × 1 columns</p>\n",
       "</div>"
      ],
      "text/plain": [
       "             ETHUSD\n",
       "Date               \n",
       "2016-10-14    11.92\n",
       "2016-10-15    11.95\n",
       "2016-10-16    11.95\n",
       "2016-10-17    11.96\n",
       "2016-10-18    12.54\n",
       "...             ...\n",
       "2021-09-26  3064.64\n",
       "2021-09-27  2927.15\n",
       "2021-09-28  2807.19\n",
       "2021-09-29  2848.28\n",
       "2021-09-30  3000.45\n",
       "\n",
       "[1813 rows x 1 columns]"
      ]
     },
     "execution_count": 24,
     "metadata": {},
     "output_type": "execute_result"
    }
   ],
   "source": [
    "\n",
    "\n",
    "filepath=Path(\"Resources/ETH_c_.csv\")\n",
    "ETH_data = pd.read_csv(filepath, index_col=\"Date\", parse_dates=True)\n",
    "#ETH_data['Date'] = pd.to_datetime(ETH_data['Date'], \n",
    "print(ETH_data.dtypes)\n",
    "ETH_data"
   ]
  },
  {
   "cell_type": "code",
   "execution_count": 25,
   "id": "85bc26dd",
   "metadata": {},
   "outputs": [],
   "source": [
    "merged_BTCETH = pd.merge(BTC_data, ETH_data, on=[\"Date\"])\n"
   ]
  },
  {
   "cell_type": "code",
   "execution_count": 26,
   "id": "c069cf88",
   "metadata": {},
   "outputs": [
    {
     "data": {
      "text/plain": [
       "<bound method NDFrame.head of               BTCUSD   ETHUSD\n",
       "Date                         \n",
       "2016-10-14    638.03    11.92\n",
       "2016-10-15    638.16    11.95\n",
       "2016-10-16    641.92    11.95\n",
       "2016-10-17    639.56    11.96\n",
       "2016-10-18    635.11    12.54\n",
       "...              ...      ...\n",
       "2021-09-26  43228.50  3064.64\n",
       "2021-09-27  42171.70  2927.15\n",
       "2021-09-28  41049.00  2807.19\n",
       "2021-09-29  41522.10  2848.28\n",
       "2021-09-30  43824.40  3000.45\n",
       "\n",
       "[1813 rows x 2 columns]>"
      ]
     },
     "execution_count": 26,
     "metadata": {},
     "output_type": "execute_result"
    }
   ],
   "source": [
    "merged_BTCETH.head\n",
    "\n"
   ]
  },
  {
   "cell_type": "code",
   "execution_count": 27,
   "id": "a3f617c2",
   "metadata": {},
   "outputs": [
    {
     "data": {
      "text/plain": [
       "BTCUSD    float64\n",
       "ETHUSD    float64\n",
       "dtype: object"
      ]
     },
     "execution_count": 27,
     "metadata": {},
     "output_type": "execute_result"
    }
   ],
   "source": [
    "merged_BTCETH.dtypes"
   ]
  },
  {
   "cell_type": "code",
   "execution_count": 28,
   "id": "c2037bb1",
   "metadata": {},
   "outputs": [
    {
     "data": {
      "text/plain": [
       "<matplotlib.axes._subplots.AxesSubplot at 0x230647ab488>"
      ]
     },
     "execution_count": 28,
     "metadata": {},
     "output_type": "execute_result"
    },
    {
     "data": {
      "image/png": "[encoded data removed]",
      "text/plain": [
       "<Figure size 432x288 with 1 Axes>"
      ]
     },
     "metadata": {
      "needs_background": "light"
     },
     "output_type": "display_data"
    }
   ],
   "source": [
    "# Plot the data trends of the bitcoin vs. ethereum over these years\n",
    "merged_BTCETH.plot(title='correlation of bitcoin vs. ethereum')"
   ]
  },
  {
   "cell_type": "markdown",
   "id": "4fbd912c",
   "metadata": {},
   "source": [
    " ### Scaling Prices"
   ]
  },
  {
   "cell_type": "code",
   "execution_count": 10,
   "id": "09c96496",
   "metadata": {},
   "outputs": [],
   "source": [
    "merged_BTCETH[\"BTC_norm\"]=merged_BTCETH[\"BTCUSD\"] / merged_BTCETH[\"BTCUSD\"].abs().max()"
   ]
  },
  {
   "cell_type": "code",
   "execution_count": 11,
   "id": "53ec4624",
   "metadata": {},
   "outputs": [
    {
     "data": {
      "text/html": [
       "<div>\n",
       "<style scoped>\n",
       "    .dataframe tbody tr th:only-of-type {\n",
       "        vertical-align: middle;\n",
       "    }\n",
       "\n",
       "    .dataframe tbody tr th {\n",
       "        vertical-align: top;\n",
       "    }\n",
       "\n",
       "    .dataframe thead th {\n",
       "        text-align: right;\n",
       "    }\n",
       "</style>\n",
       "<table border=\"1\" class=\"dataframe\">\n",
       "  <thead>\n",
       "    <tr style=\"text-align: right;\">\n",
       "      <th></th>\n",
       "      <th>BTCUSD</th>\n",
       "      <th>ETHUSD</th>\n",
       "      <th>BTC_norm</th>\n",
       "    </tr>\n",
       "    <tr>\n",
       "      <th>Date</th>\n",
       "      <th></th>\n",
       "      <th></th>\n",
       "      <th></th>\n",
       "    </tr>\n",
       "  </thead>\n",
       "  <tbody>\n",
       "    <tr>\n",
       "      <th>2016-10-14</th>\n",
       "      <td>638.03</td>\n",
       "      <td>11.92</td>\n",
       "      <td>0.010034</td>\n",
       "    </tr>\n",
       "    <tr>\n",
       "      <th>2016-10-15</th>\n",
       "      <td>638.16</td>\n",
       "      <td>11.95</td>\n",
       "      <td>0.010036</td>\n",
       "    </tr>\n",
       "    <tr>\n",
       "      <th>2016-10-16</th>\n",
       "      <td>641.92</td>\n",
       "      <td>11.95</td>\n",
       "      <td>0.010095</td>\n",
       "    </tr>\n",
       "    <tr>\n",
       "      <th>2016-10-17</th>\n",
       "      <td>639.56</td>\n",
       "      <td>11.96</td>\n",
       "      <td>0.010058</td>\n",
       "    </tr>\n",
       "    <tr>\n",
       "      <th>2016-10-18</th>\n",
       "      <td>635.11</td>\n",
       "      <td>12.54</td>\n",
       "      <td>0.009988</td>\n",
       "    </tr>\n",
       "    <tr>\n",
       "      <th>...</th>\n",
       "      <td>...</td>\n",
       "      <td>...</td>\n",
       "      <td>...</td>\n",
       "    </tr>\n",
       "    <tr>\n",
       "      <th>2021-09-26</th>\n",
       "      <td>43228.50</td>\n",
       "      <td>3064.64</td>\n",
       "      <td>0.679820</td>\n",
       "    </tr>\n",
       "    <tr>\n",
       "      <th>2021-09-27</th>\n",
       "      <td>42171.70</td>\n",
       "      <td>2927.15</td>\n",
       "      <td>0.663200</td>\n",
       "    </tr>\n",
       "    <tr>\n",
       "      <th>2021-09-28</th>\n",
       "      <td>41049.00</td>\n",
       "      <td>2807.19</td>\n",
       "      <td>0.645544</td>\n",
       "    </tr>\n",
       "    <tr>\n",
       "      <th>2021-09-29</th>\n",
       "      <td>41522.10</td>\n",
       "      <td>2848.28</td>\n",
       "      <td>0.652984</td>\n",
       "    </tr>\n",
       "    <tr>\n",
       "      <th>2021-09-30</th>\n",
       "      <td>43824.40</td>\n",
       "      <td>3000.45</td>\n",
       "      <td>0.689191</td>\n",
       "    </tr>\n",
       "  </tbody>\n",
       "</table>\n",
       "<p>1813 rows × 3 columns</p>\n",
       "</div>"
      ],
      "text/plain": [
       "              BTCUSD   ETHUSD  BTC_norm\n",
       "Date                                   \n",
       "2016-10-14    638.03    11.92  0.010034\n",
       "2016-10-15    638.16    11.95  0.010036\n",
       "2016-10-16    641.92    11.95  0.010095\n",
       "2016-10-17    639.56    11.96  0.010058\n",
       "2016-10-18    635.11    12.54  0.009988\n",
       "...              ...      ...       ...\n",
       "2021-09-26  43228.50  3064.64  0.679820\n",
       "2021-09-27  42171.70  2927.15  0.663200\n",
       "2021-09-28  41049.00  2807.19  0.645544\n",
       "2021-09-29  41522.10  2848.28  0.652984\n",
       "2021-09-30  43824.40  3000.45  0.689191\n",
       "\n",
       "[1813 rows x 3 columns]"
      ]
     },
     "execution_count": 11,
     "metadata": {},
     "output_type": "execute_result"
    }
   ],
   "source": [
    "merged_BTCETH\n"
   ]
  },
  {
   "cell_type": "code",
   "execution_count": 12,
   "id": "624d352f",
   "metadata": {},
   "outputs": [],
   "source": [
    "merged_BTCETH[\"ETH_norm\"]=merged_BTCETH[\"ETHUSD\"] / merged_BTCETH[\"ETHUSD\"].abs().max()"
   ]
  },
  {
   "cell_type": "code",
   "execution_count": 13,
   "id": "3579ba71",
   "metadata": {},
   "outputs": [
    {
     "data": {
      "text/html": [
       "<div>\n",
       "<style scoped>\n",
       "    .dataframe tbody tr th:only-of-type {\n",
       "        vertical-align: middle;\n",
       "    }\n",
       "\n",
       "    .dataframe tbody tr th {\n",
       "        vertical-align: top;\n",
       "    }\n",
       "\n",
       "    .dataframe thead th {\n",
       "        text-align: right;\n",
       "    }\n",
       "</style>\n",
       "<table border=\"1\" class=\"dataframe\">\n",
       "  <thead>\n",
       "    <tr style=\"text-align: right;\">\n",
       "      <th></th>\n",
       "      <th>BTCUSD</th>\n",
       "      <th>ETHUSD</th>\n",
       "      <th>BTC_norm</th>\n",
       "      <th>ETH_norm</th>\n",
       "    </tr>\n",
       "    <tr>\n",
       "      <th>Date</th>\n",
       "      <th></th>\n",
       "      <th></th>\n",
       "      <th></th>\n",
       "      <th></th>\n",
       "    </tr>\n",
       "  </thead>\n",
       "  <tbody>\n",
       "    <tr>\n",
       "      <th>2016-10-14</th>\n",
       "      <td>638.03</td>\n",
       "      <td>11.92</td>\n",
       "      <td>0.010034</td>\n",
       "      <td>0.002852</td>\n",
       "    </tr>\n",
       "    <tr>\n",
       "      <th>2016-10-15</th>\n",
       "      <td>638.16</td>\n",
       "      <td>11.95</td>\n",
       "      <td>0.010036</td>\n",
       "      <td>0.002859</td>\n",
       "    </tr>\n",
       "    <tr>\n",
       "      <th>2016-10-16</th>\n",
       "      <td>641.92</td>\n",
       "      <td>11.95</td>\n",
       "      <td>0.010095</td>\n",
       "      <td>0.002859</td>\n",
       "    </tr>\n",
       "    <tr>\n",
       "      <th>2016-10-17</th>\n",
       "      <td>639.56</td>\n",
       "      <td>11.96</td>\n",
       "      <td>0.010058</td>\n",
       "      <td>0.002861</td>\n",
       "    </tr>\n",
       "    <tr>\n",
       "      <th>2016-10-18</th>\n",
       "      <td>635.11</td>\n",
       "      <td>12.54</td>\n",
       "      <td>0.009988</td>\n",
       "      <td>0.003000</td>\n",
       "    </tr>\n",
       "    <tr>\n",
       "      <th>...</th>\n",
       "      <td>...</td>\n",
       "      <td>...</td>\n",
       "      <td>...</td>\n",
       "      <td>...</td>\n",
       "    </tr>\n",
       "    <tr>\n",
       "      <th>2021-09-26</th>\n",
       "      <td>43228.50</td>\n",
       "      <td>3064.64</td>\n",
       "      <td>0.679820</td>\n",
       "      <td>0.733201</td>\n",
       "    </tr>\n",
       "    <tr>\n",
       "      <th>2021-09-27</th>\n",
       "      <td>42171.70</td>\n",
       "      <td>2927.15</td>\n",
       "      <td>0.663200</td>\n",
       "      <td>0.700307</td>\n",
       "    </tr>\n",
       "    <tr>\n",
       "      <th>2021-09-28</th>\n",
       "      <td>41049.00</td>\n",
       "      <td>2807.19</td>\n",
       "      <td>0.645544</td>\n",
       "      <td>0.671607</td>\n",
       "    </tr>\n",
       "    <tr>\n",
       "      <th>2021-09-29</th>\n",
       "      <td>41522.10</td>\n",
       "      <td>2848.28</td>\n",
       "      <td>0.652984</td>\n",
       "      <td>0.681438</td>\n",
       "    </tr>\n",
       "    <tr>\n",
       "      <th>2021-09-30</th>\n",
       "      <td>43824.40</td>\n",
       "      <td>3000.45</td>\n",
       "      <td>0.689191</td>\n",
       "      <td>0.717844</td>\n",
       "    </tr>\n",
       "  </tbody>\n",
       "</table>\n",
       "<p>1813 rows × 4 columns</p>\n",
       "</div>"
      ],
      "text/plain": [
       "              BTCUSD   ETHUSD  BTC_norm  ETH_norm\n",
       "Date                                             \n",
       "2016-10-14    638.03    11.92  0.010034  0.002852\n",
       "2016-10-15    638.16    11.95  0.010036  0.002859\n",
       "2016-10-16    641.92    11.95  0.010095  0.002859\n",
       "2016-10-17    639.56    11.96  0.010058  0.002861\n",
       "2016-10-18    635.11    12.54  0.009988  0.003000\n",
       "...              ...      ...       ...       ...\n",
       "2021-09-26  43228.50  3064.64  0.679820  0.733201\n",
       "2021-09-27  42171.70  2927.15  0.663200  0.700307\n",
       "2021-09-28  41049.00  2807.19  0.645544  0.671607\n",
       "2021-09-29  41522.10  2848.28  0.652984  0.681438\n",
       "2021-09-30  43824.40  3000.45  0.689191  0.717844\n",
       "\n",
       "[1813 rows x 4 columns]"
      ]
     },
     "execution_count": 13,
     "metadata": {},
     "output_type": "execute_result"
    }
   ],
   "source": [
    "merged_BTCETH"
   ]
  },
  {
   "cell_type": "code",
   "execution_count": 14,
   "id": "2fa38119",
   "metadata": {},
   "outputs": [
    {
     "name": "stdout",
     "output_type": "stream",
     "text": [
      "BTCUSD      float64\n",
      "ETHUSD      float64\n",
      "BTC_norm    float64\n",
      "ETH_norm    float64\n",
      "dtype: object\n"
     ]
    },
    {
     "data": {
      "text/html": [
       "<div>\n",
       "<style scoped>\n",
       "    .dataframe tbody tr th:only-of-type {\n",
       "        vertical-align: middle;\n",
       "    }\n",
       "\n",
       "    .dataframe tbody tr th {\n",
       "        vertical-align: top;\n",
       "    }\n",
       "\n",
       "    .dataframe thead th {\n",
       "        text-align: right;\n",
       "    }\n",
       "</style>\n",
       "<table border=\"1\" class=\"dataframe\">\n",
       "  <thead>\n",
       "    <tr style=\"text-align: right;\">\n",
       "      <th></th>\n",
       "      <th>BTCUSD</th>\n",
       "      <th>ETHUSD</th>\n",
       "      <th>BTC_norm</th>\n",
       "      <th>ETH_norm</th>\n",
       "    </tr>\n",
       "    <tr>\n",
       "      <th>Date</th>\n",
       "      <th></th>\n",
       "      <th></th>\n",
       "      <th></th>\n",
       "      <th></th>\n",
       "    </tr>\n",
       "  </thead>\n",
       "  <tbody>\n",
       "    <tr>\n",
       "      <th>2016-10-14</th>\n",
       "      <td>638.03</td>\n",
       "      <td>11.92</td>\n",
       "      <td>0.010034</td>\n",
       "      <td>0.002852</td>\n",
       "    </tr>\n",
       "    <tr>\n",
       "      <th>2016-10-15</th>\n",
       "      <td>638.16</td>\n",
       "      <td>11.95</td>\n",
       "      <td>0.010036</td>\n",
       "      <td>0.002859</td>\n",
       "    </tr>\n",
       "    <tr>\n",
       "      <th>2016-10-16</th>\n",
       "      <td>641.92</td>\n",
       "      <td>11.95</td>\n",
       "      <td>0.010095</td>\n",
       "      <td>0.002859</td>\n",
       "    </tr>\n",
       "    <tr>\n",
       "      <th>2016-10-17</th>\n",
       "      <td>639.56</td>\n",
       "      <td>11.96</td>\n",
       "      <td>0.010058</td>\n",
       "      <td>0.002861</td>\n",
       "    </tr>\n",
       "    <tr>\n",
       "      <th>2016-10-18</th>\n",
       "      <td>635.11</td>\n",
       "      <td>12.54</td>\n",
       "      <td>0.009988</td>\n",
       "      <td>0.003000</td>\n",
       "    </tr>\n",
       "    <tr>\n",
       "      <th>...</th>\n",
       "      <td>...</td>\n",
       "      <td>...</td>\n",
       "      <td>...</td>\n",
       "      <td>...</td>\n",
       "    </tr>\n",
       "    <tr>\n",
       "      <th>2021-09-26</th>\n",
       "      <td>43228.50</td>\n",
       "      <td>3064.64</td>\n",
       "      <td>0.679820</td>\n",
       "      <td>0.733201</td>\n",
       "    </tr>\n",
       "    <tr>\n",
       "      <th>2021-09-27</th>\n",
       "      <td>42171.70</td>\n",
       "      <td>2927.15</td>\n",
       "      <td>0.663200</td>\n",
       "      <td>0.700307</td>\n",
       "    </tr>\n",
       "    <tr>\n",
       "      <th>2021-09-28</th>\n",
       "      <td>41049.00</td>\n",
       "      <td>2807.19</td>\n",
       "      <td>0.645544</td>\n",
       "      <td>0.671607</td>\n",
       "    </tr>\n",
       "    <tr>\n",
       "      <th>2021-09-29</th>\n",
       "      <td>41522.10</td>\n",
       "      <td>2848.28</td>\n",
       "      <td>0.652984</td>\n",
       "      <td>0.681438</td>\n",
       "    </tr>\n",
       "    <tr>\n",
       "      <th>2021-09-30</th>\n",
       "      <td>43824.40</td>\n",
       "      <td>3000.45</td>\n",
       "      <td>0.689191</td>\n",
       "      <td>0.717844</td>\n",
       "    </tr>\n",
       "  </tbody>\n",
       "</table>\n",
       "<p>1813 rows × 4 columns</p>\n",
       "</div>"
      ],
      "text/plain": [
       "              BTCUSD   ETHUSD  BTC_norm  ETH_norm\n",
       "Date                                             \n",
       "2016-10-14    638.03    11.92  0.010034  0.002852\n",
       "2016-10-15    638.16    11.95  0.010036  0.002859\n",
       "2016-10-16    641.92    11.95  0.010095  0.002859\n",
       "2016-10-17    639.56    11.96  0.010058  0.002861\n",
       "2016-10-18    635.11    12.54  0.009988  0.003000\n",
       "...              ...      ...       ...       ...\n",
       "2021-09-26  43228.50  3064.64  0.679820  0.733201\n",
       "2021-09-27  42171.70  2927.15  0.663200  0.700307\n",
       "2021-09-28  41049.00  2807.19  0.645544  0.671607\n",
       "2021-09-29  41522.10  2848.28  0.652984  0.681438\n",
       "2021-09-30  43824.40  3000.45  0.689191  0.717844\n",
       "\n",
       "[1813 rows x 4 columns]"
      ]
     },
     "execution_count": 14,
     "metadata": {},
     "output_type": "execute_result"
    }
   ],
   "source": [
    "print(merged_BTCETH.dtypes)\n",
    "merged_BTCETH"
   ]
  },
  {
   "cell_type": "code",
   "execution_count": 15,
   "id": "edd69b72",
   "metadata": {},
   "outputs": [
    {
     "data": {
      "text/plain": [
       "<matplotlib.axes._subplots.AxesSubplot at 0x23064605708>"
      ]
     },
     "execution_count": 15,
     "metadata": {},
     "output_type": "execute_result"
    },
    {
     "data": {
      "image/png": "[encoded data removed]",
      "text/plain": [
       "<Figure size 432x288 with 1 Axes>"
      ]
     },
     "metadata": {
      "needs_background": "light"
     },
     "output_type": "display_data"
    }
   ],
   "source": [
    "merged_BTCETH[['BTC_norm', 'ETH_norm']].plot(title='new')"
   ]
  },
  {
   "cell_type": "markdown",
   "id": "0c986fdc",
   "metadata": {},
   "source": [
    "### Returns data for better understanding"
   ]
  },
  {
   "cell_type": "code",
   "execution_count": null,
   "id": "8975ded2",
   "metadata": {},
   "outputs": [],
   "source": [
    "btceth_returns = merged_BTCETH.pct_change()\n",
    "btceth_returns.head()"
   ]
  },
  {
   "cell_type": "code",
   "execution_count": null,
   "id": "c9b104c3",
   "metadata": {},
   "outputs": [],
   "source": [
    "# Plot the daily returns of Bitcoin and Ethernet\n",
    "btceth_returns[[\"BTCUSD\",\"ETHUSD\"]].plot(alpha=0.8, color=[\"r\",\"g\"]) "
   ]
  },
  {
   "cell_type": "code",
   "execution_count": null,
   "id": "349b8e3c",
   "metadata": {},
   "outputs": [],
   "source": [
    "btceth_returns[[\"BTC_norm\",\"ETH_norm\"]].plot(alpha=0.5)"
   ]
  },
  {
   "cell_type": "markdown",
   "id": "f2e1abea",
   "metadata": {},
   "source": [
    "### Correlations"
   ]
  },
  {
   "cell_type": "code",
   "execution_count": null,
   "id": "7976b45a",
   "metadata": {},
   "outputs": [],
   "source": [
    "correlation = btceth_returns.corr()\n",
    "correlation"
   ]
  },
  {
   "cell_type": "markdown",
   "id": "9c5a1f0b",
   "metadata": {},
   "source": [
    "### Create Bins for perspective"
   ]
  },
  {
   "cell_type": "code",
   "execution_count": null,
   "id": "9812262f",
   "metadata": {},
   "outputs": [],
   "source": []
  },
  {
   "cell_type": "code",
   "execution_count": null,
   "id": "fdce7a21",
   "metadata": {},
   "outputs": [],
   "source": []
  },
  {
   "cell_type": "code",
   "execution_count": null,
   "id": "9b0d29ae",
   "metadata": {},
   "outputs": [],
   "source": [
    "# Create the variable bins to define our bounds for when we cut the dataframe.\n",
    "bins = [0, 10000, 35000, 50000, 70000]\n",
    "\n",
    "# Create names for the bins\n",
    "group_names = [\"Low\", \"Moderate\", \"Above Average\", \"High\"]"
   ]
  },
  {
   "cell_type": "markdown",
   "id": "8e5f1f7e",
   "metadata": {},
   "source": [
    "### Label Price Ranges According to the Corresponding Bin¶\n"
   ]
  },
  {
   "cell_type": "code",
   "execution_count": 16,
   "id": "66ecc42c",
   "metadata": {},
   "outputs": [
    {
     "ename": "NameError",
     "evalue": "name 'bins' is not defined",
     "output_type": "error",
     "traceback": [
      "\u001b[1;31m---------------------------------------------------------------------------\u001b[0m",
      "\u001b[1;31mNameError\u001b[0m                                 Traceback (most recent call last)",
      "\u001b[1;32m<ipython-input-16-75e0bbf07c5a>\u001b[0m in \u001b[0;36m<module>\u001b[1;34m\u001b[0m\n\u001b[0;32m      1\u001b[0m \u001b[1;31m# Add a column named \"Salary Level\" to people_df and slice the data into the bins\u001b[0m\u001b[1;33m\u001b[0m\u001b[1;33m\u001b[0m\u001b[1;33m\u001b[0m\u001b[0m\n\u001b[1;32m----> 2\u001b[1;33m \u001b[0mmerged_BTCETH\u001b[0m\u001b[1;33m[\u001b[0m\u001b[1;34m\"BTC_Price_Range\"\u001b[0m\u001b[1;33m]\u001b[0m \u001b[1;33m=\u001b[0m \u001b[0mpd\u001b[0m\u001b[1;33m.\u001b[0m\u001b[0mcut\u001b[0m\u001b[1;33m(\u001b[0m\u001b[0mmerged_BTCETH\u001b[0m\u001b[1;33m[\u001b[0m\u001b[1;34m\"BTCUSD\"\u001b[0m\u001b[1;33m]\u001b[0m\u001b[1;33m,\u001b[0m \u001b[0mbins\u001b[0m\u001b[1;33m,\u001b[0m \u001b[0mlabels\u001b[0m\u001b[1;33m=\u001b[0m\u001b[0mgroup_names\u001b[0m\u001b[1;33m)\u001b[0m\u001b[1;33m\u001b[0m\u001b[1;33m\u001b[0m\u001b[0m\n\u001b[0m\u001b[0;32m      3\u001b[0m \u001b[1;33m\u001b[0m\u001b[0m\n\u001b[0;32m      4\u001b[0m \u001b[0mmerged_BTCETH\u001b[0m\u001b[1;33m.\u001b[0m\u001b[0mhead\u001b[0m\u001b[1;33m(\u001b[0m\u001b[1;33m)\u001b[0m\u001b[1;33m\u001b[0m\u001b[1;33m\u001b[0m\u001b[0m\n",
      "\u001b[1;31mNameError\u001b[0m: name 'bins' is not defined"
     ]
    }
   ],
   "source": [
    "# Add a column named \"Salary Level\" to people_df and slice the data into the bins\n",
    "merged_BTCETH[\"BTC_Price_Range\"] = pd.cut(merged_BTCETH[\"BTCUSD\"], bins, labels=group_names)\n",
    "\n",
    "merged_BTCETH.head()\n"
   ]
  },
  {
   "cell_type": "markdown",
   "id": "20423bc6",
   "metadata": {},
   "source": [
    "### Create Parallel Plot"
   ]
  },
  {
   "cell_type": "code",
   "execution_count": null,
   "id": "36da41fe",
   "metadata": {},
   "outputs": [],
   "source": [
    "#import calendar\n",
    "# merged_BTCETH['Year'] = merged_BTCETH[\"Date\"].dt.year\n"
   ]
  },
  {
   "cell_type": "code",
   "execution_count": null,
   "id": "2d86caaf",
   "metadata": {},
   "outputs": [],
   "source": []
  },
  {
   "cell_type": "code",
   "execution_count": null,
   "id": "6f08cc69",
   "metadata": {},
   "outputs": [],
   "source": [
    "merged_BTCETH_new=merged_BTCETH.reset_index()\n",
    "merged_BTCETH_new.head()"
   ]
  },
  {
   "cell_type": "code",
   "execution_count": null,
   "id": "ce47e4c6",
   "metadata": {},
   "outputs": [],
   "source": [
    "merged_BTCETH_new.dtypes"
   ]
  },
  {
   "cell_type": "code",
   "execution_count": null,
   "id": "b7370847",
   "metadata": {},
   "outputs": [],
   "source": [
    "merged_BTCETH_new['Date'].dt.year\n",
    "merged_BTCETH_new[\"Year\"] = merged_BTCETH_new['Date'].dt.year\n",
    "merged_BTCETH_year_mean= merged_BTCETH_new.groupby('Year')[[\"BTCUSD\",\"ETHUSD\",\"BTC_norm\",\"ETH_norm\"]].mean()\n",
    "merged_BTCETH_year_mean =merged_BTCETH_year_mean.reset_index()\n",
    "merged_BTCETH_new"
   ]
  },
  {
   "cell_type": "code",
   "execution_count": null,
   "id": "6d416005",
   "metadata": {},
   "outputs": [],
   "source": [
    "#import calendar\n",
    "# merged_BTCETH = merged_BTCETH[\"Date\"].dt.year\n",
    "\n",
    "#combined_final = merged_BTCETH\n",
    "#combined_final = combined_final.set_index('Date')\n",
    "#annual = combined_final.resample(\"A\").mean()\n",
    "#annual\n"
   ]
  },
  {
   "cell_type": "code",
   "execution_count": null,
   "id": "643124ac",
   "metadata": {},
   "outputs": [],
   "source": [
    "# Plot data using parallel_categories\n",
    "px.parallel_categories(\n",
    "    merged_BTCETH_year_mean,\n",
    "    dimensions=[\"Year\", \"BTCUSD\", \"ETHUSD\"],\n",
    "    color_continuous_scale=px.colors.sequential.Inferno,\n",
    "    labels={\n",
    "        \"Year\" : \"Year\",\n",
    "        \"BTCUSD\": \"BTC Closing Price\",\n",
    "        \"ETHUSD\": \"ETH Closing Price\",\n",
    "    }\n",
    ")\n",
    "\n"
   ]
  },
  {
   "cell_type": "code",
   "execution_count": null,
   "id": "18033e0e",
   "metadata": {},
   "outputs": [],
   "source": [
    "merged_returns = merged_BTCETH[[\"BTCUSD\",\"ETHUSD\"]].pct_change()\n",
    "merged_returns\n",
    "correlation = merged_returns.corr()\n",
    "correlation\n",
    "sns.heatmap(correlation)"
   ]
  },
  {
   "cell_type": "code",
   "execution_count": null,
   "id": "84a02a2a",
   "metadata": {},
   "outputs": [],
   "source": [
    "# Create scatter plot\n",
    "px.scatter(merged_BTCETH_new, x=\"Date\", y=\"BTCUSD\", size=\"BTCUSD\")"
   ]
  },
  {
   "cell_type": "code",
   "execution_count": null,
   "id": "0f4d6361",
   "metadata": {},
   "outputs": [],
   "source": [
    "# Create scatter plot\n",
    "px.scatter(merged_BTCETH_new, x=\"Date\", y=\"ETHUSD\", size=\"ETHUSD\", color='ETHUSD')"
   ]
  },
  {
   "cell_type": "code",
   "execution_count": null,
   "id": "3de055ea",
   "metadata": {},
   "outputs": [],
   "source": [
    "# Create scatter plot comparing average sale price and cost of living index\n",
    "px.scatter(\n",
    "    merged_BTCETH_new,  # feed it the df\n",
    "    x=\"Date\",  # x, identify the desired columns\n",
    "    y=[\"BTCUSD\",\"ETHUSD\"],  # y\n",
    "    size=\"BTC_norm\",  # z\n",
    "    color=\"BTC_Price_Range\",  # z2 - many dimensions!\n",
    ")\n"
   ]
  },
  {
   "cell_type": "code",
   "execution_count": null,
   "id": "dfd1601a",
   "metadata": {},
   "outputs": [],
   "source": [
    "# Create area plot\n",
    "px.area(\n",
    "    merged_BTCETH_new,\n",
    "    x=\"Date\",\n",
    "    y=\"BTCUSD\",\n",
    "    color=\"BTC_Price_Range\",\n",
    "    line_group=\"BTC_Price_Range\",\n",
    ")"
   ]
  },
  {
   "cell_type": "code",
   "execution_count": null,
   "id": "a6833d13",
   "metadata": {},
   "outputs": [],
   "source": [
    "# Create area plot\n",
    "px.area(\n",
    "    merged_BTCETH_new,\n",
    "    x=\"Date\",\n",
    "    y=\"ETHUSD\",\n",
    "    color=\"ETH_norm\",\n",
    "    line_group=\"ETHUSD\",\n",
    ")"
   ]
  },
  {
   "cell_type": "code",
   "execution_count": null,
   "id": "b2fc2829",
   "metadata": {},
   "outputs": [],
   "source": []
  },
  {
   "cell_type": "code",
   "execution_count": null,
   "id": "a197f76f",
   "metadata": {},
   "outputs": [],
   "source": []
  }
 ],
 "metadata": {
  "kernelspec": {
   "display_name": "Python [conda env:pyvizenv] *",
   "language": "python",
   "name": "conda-env-pyvizenv-py"
  },
  "language_info": {
   "codemirror_mode": {
    "name": "ipython",
    "version": 3
   },
   "file_extension": ".py",
   "mimetype": "text/x-python",
   "name": "python",
   "nbconvert_exporter": "python",
   "pygments_lexer": "ipython3",
   "version": "3.7.10"
  }
 },
 "nbformat": 4,
 "nbformat_minor": 5
}
