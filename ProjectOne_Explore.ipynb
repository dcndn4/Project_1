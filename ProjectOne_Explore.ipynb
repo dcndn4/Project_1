{
 "cells": [
  {
   "cell_type": "markdown",
   "id": "9608f876",
   "metadata": {},
   "source": [
    "# Project 1 Data Exploration\n",
    "Alex\n",
    "Claire\n",
    "Steve\n",
    "Sylvia\n",
    "\n",
    "This project explores data analysis of cryptocurrencies."
   ]
  },
  {
   "cell_type": "code",
   "execution_count": 23,
   "id": "b1ef033a",
   "metadata": {},
   "outputs": [],
   "source": [
    "import os\n",
    "from dotenv import load_dotenv\n",
    "from pathlib import Path\n",
    "from requests import Request, Session\n",
    "from requests.exceptions import ConnectionError, Timeout, TooManyRedirects\n",
    "import json\n",
    "import matplotlib.pyplot as plt\n",
    "import plotly.express as px\n",
    "import seaborn as sns\n",
    "import pandas as pd"
   ]
  },
  {
   "cell_type": "markdown",
   "id": "ba525e5c",
   "metadata": {},
   "source": [
    "## Import data"
   ]
  },
  {
   "cell_type": "code",
   "execution_count": 30,
   "id": "8909cb01",
   "metadata": {},
   "outputs": [
    {
     "name": "stdout",
     "output_type": "stream",
     "text": [
      "BTCUSD    float64\n",
      "dtype: object\n"
     ]
    },
    {
     "data": {
      "text/html": [
       "<div>\n",
       "<style scoped>\n",
       "    .dataframe tbody tr th:only-of-type {\n",
       "        vertical-align: middle;\n",
       "    }\n",
       "\n",
       "    .dataframe tbody tr th {\n",
       "        vertical-align: top;\n",
       "    }\n",
       "\n",
       "    .dataframe thead th {\n",
       "        text-align: right;\n",
       "    }\n",
       "</style>\n",
       "<table border=\"1\" class=\"dataframe\">\n",
       "  <thead>\n",
       "    <tr style=\"text-align: right;\">\n",
       "      <th></th>\n",
       "      <th>BTCUSD</th>\n",
       "    </tr>\n",
       "    <tr>\n",
       "      <th>Date</th>\n",
       "      <th></th>\n",
       "    </tr>\n",
       "  </thead>\n",
       "  <tbody>\n",
       "    <tr>\n",
       "      <th>2015-11-19</th>\n",
       "      <td>326.41</td>\n",
       "    </tr>\n",
       "    <tr>\n",
       "      <th>2015-11-20</th>\n",
       "      <td>322.39</td>\n",
       "    </tr>\n",
       "    <tr>\n",
       "      <th>2015-11-21</th>\n",
       "      <td>327.00</td>\n",
       "    </tr>\n",
       "    <tr>\n",
       "      <th>2015-11-22</th>\n",
       "      <td>323.71</td>\n",
       "    </tr>\n",
       "    <tr>\n",
       "      <th>2015-11-23</th>\n",
       "      <td>323.00</td>\n",
       "    </tr>\n",
       "    <tr>\n",
       "      <th>...</th>\n",
       "      <td>...</td>\n",
       "    </tr>\n",
       "    <tr>\n",
       "      <th>2021-09-26</th>\n",
       "      <td>43228.50</td>\n",
       "    </tr>\n",
       "    <tr>\n",
       "      <th>2021-09-27</th>\n",
       "      <td>42171.70</td>\n",
       "    </tr>\n",
       "    <tr>\n",
       "      <th>2021-09-28</th>\n",
       "      <td>41049.00</td>\n",
       "    </tr>\n",
       "    <tr>\n",
       "      <th>2021-09-29</th>\n",
       "      <td>41522.10</td>\n",
       "    </tr>\n",
       "    <tr>\n",
       "      <th>2021-09-30</th>\n",
       "      <td>43824.40</td>\n",
       "    </tr>\n",
       "  </tbody>\n",
       "</table>\n",
       "<p>2143 rows × 1 columns</p>\n",
       "</div>"
      ],
      "text/plain": [
       "              BTCUSD\n",
       "Date                \n",
       "2015-11-19    326.41\n",
       "2015-11-20    322.39\n",
       "2015-11-21    327.00\n",
       "2015-11-22    323.71\n",
       "2015-11-23    323.00\n",
       "...              ...\n",
       "2021-09-26  43228.50\n",
       "2021-09-27  42171.70\n",
       "2021-09-28  41049.00\n",
       "2021-09-29  41522.10\n",
       "2021-09-30  43824.40\n",
       "\n",
       "[2143 rows x 1 columns]"
      ]
     },
     "execution_count": 30,
     "metadata": {},
     "output_type": "execute_result"
    }
   ],
   "source": [
    "filepath=Path(\"Resources/BTC_c_.csv\")\n",
    "\n",
    "BTC_data = pd.read_csv(filepath, index_col=\"Date\", parse_dates=True)\n",
    "print(BTC_data.dtypes)\n",
    "\n",
    "\n",
    "#BTC_data['Date'] = pd.to_datetime(BTC_data['Date'])\n",
    "\n",
    "#print(BTC_data.dtypes)\n",
    "BTC_data"
   ]
  },
  {
   "cell_type": "code",
   "execution_count": 31,
   "id": "97ef1344",
   "metadata": {},
   "outputs": [
    {
     "name": "stdout",
     "output_type": "stream",
     "text": [
      "ETHUSD    float64\n",
      "dtype: object\n"
     ]
    },
    {
     "data": {
      "text/html": [
       "<div>\n",
       "<style scoped>\n",
       "    .dataframe tbody tr th:only-of-type {\n",
       "        vertical-align: middle;\n",
       "    }\n",
       "\n",
       "    .dataframe tbody tr th {\n",
       "        vertical-align: top;\n",
       "    }\n",
       "\n",
       "    .dataframe thead th {\n",
       "        text-align: right;\n",
       "    }\n",
       "</style>\n",
       "<table border=\"1\" class=\"dataframe\">\n",
       "  <thead>\n",
       "    <tr style=\"text-align: right;\">\n",
       "      <th></th>\n",
       "      <th>ETHUSD</th>\n",
       "    </tr>\n",
       "    <tr>\n",
       "      <th>Date</th>\n",
       "      <th></th>\n",
       "    </tr>\n",
       "  </thead>\n",
       "  <tbody>\n",
       "    <tr>\n",
       "      <th>2016-10-14</th>\n",
       "      <td>11.92</td>\n",
       "    </tr>\n",
       "    <tr>\n",
       "      <th>2016-10-15</th>\n",
       "      <td>11.95</td>\n",
       "    </tr>\n",
       "    <tr>\n",
       "      <th>2016-10-16</th>\n",
       "      <td>11.95</td>\n",
       "    </tr>\n",
       "    <tr>\n",
       "      <th>2016-10-17</th>\n",
       "      <td>11.96</td>\n",
       "    </tr>\n",
       "    <tr>\n",
       "      <th>2016-10-18</th>\n",
       "      <td>12.54</td>\n",
       "    </tr>\n",
       "    <tr>\n",
       "      <th>...</th>\n",
       "      <td>...</td>\n",
       "    </tr>\n",
       "    <tr>\n",
       "      <th>2021-09-26</th>\n",
       "      <td>3064.64</td>\n",
       "    </tr>\n",
       "    <tr>\n",
       "      <th>2021-09-27</th>\n",
       "      <td>2927.15</td>\n",
       "    </tr>\n",
       "    <tr>\n",
       "      <th>2021-09-28</th>\n",
       "      <td>2807.19</td>\n",
       "    </tr>\n",
       "    <tr>\n",
       "      <th>2021-09-29</th>\n",
       "      <td>2848.28</td>\n",
       "    </tr>\n",
       "    <tr>\n",
       "      <th>2021-09-30</th>\n",
       "      <td>3000.45</td>\n",
       "    </tr>\n",
       "  </tbody>\n",
       "</table>\n",
       "<p>1813 rows × 1 columns</p>\n",
       "</div>"
      ],
      "text/plain": [
       "             ETHUSD\n",
       "Date               \n",
       "2016-10-14    11.92\n",
       "2016-10-15    11.95\n",
       "2016-10-16    11.95\n",
       "2016-10-17    11.96\n",
       "2016-10-18    12.54\n",
       "...             ...\n",
       "2021-09-26  3064.64\n",
       "2021-09-27  2927.15\n",
       "2021-09-28  2807.19\n",
       "2021-09-29  2848.28\n",
       "2021-09-30  3000.45\n",
       "\n",
       "[1813 rows x 1 columns]"
      ]
     },
     "execution_count": 31,
     "metadata": {},
     "output_type": "execute_result"
    }
   ],
   "source": [
    "\n",
    "\n",
    "filepath=Path(\"Resources/ETH_c_.csv\")\n",
    "ETH_data = pd.read_csv(filepath, index_col=\"Date\", parse_dates=True)\n",
    "#ETH_data['Date'] = pd.to_datetime(ETH_data['Date'], \n",
    "print(ETH_data.dtypes)\n",
    "ETH_data"
   ]
  },
  {
   "cell_type": "code",
   "execution_count": 32,
   "id": "3acfd164",
   "metadata": {},
   "outputs": [],
   "source": [
    "merged_BTCETH = pd.merge(BTC_data, ETH_data, on=[\"Date\"])\n"
   ]
  },
  {
   "cell_type": "code",
   "execution_count": 33,
   "id": "cd89c99a",
   "metadata": {},
   "outputs": [
    {
     "data": {
      "text/plain": [
       "<bound method NDFrame.head of               BTCUSD   ETHUSD\n",
       "Date                         \n",
       "2016-10-14    638.03    11.92\n",
       "2016-10-15    638.16    11.95\n",
       "2016-10-16    641.92    11.95\n",
       "2016-10-17    639.56    11.96\n",
       "2016-10-18    635.11    12.54\n",
       "...              ...      ...\n",
       "2021-09-26  43228.50  3064.64\n",
       "2021-09-27  42171.70  2927.15\n",
       "2021-09-28  41049.00  2807.19\n",
       "2021-09-29  41522.10  2848.28\n",
       "2021-09-30  43824.40  3000.45\n",
       "\n",
       "[1813 rows x 2 columns]>"
      ]
     },
     "execution_count": 33,
     "metadata": {},
     "output_type": "execute_result"
    }
   ],
   "source": [
    "merged_BTCETH.head\n"
   ]
  },
  {
   "cell_type": "code",
   "execution_count": 34,
   "id": "c1a1d619",
   "metadata": {},
   "outputs": [
    {
     "data": {
      "text/plain": [
       "BTCUSD    float64\n",
       "ETHUSD    float64\n",
       "dtype: object"
      ]
     },
     "execution_count": 34,
     "metadata": {},
     "output_type": "execute_result"
    }
   ],
   "source": [
    "merged_BTCETH.dtypes"
   ]
  },
  {
   "cell_type": "code",
   "execution_count": 35,
   "id": "775e96cd",
   "metadata": {},
   "outputs": [],
   "source": [
    "# Save the dataframe as a csv file to use in the Analysis notebook\n",
    "new_filepath=Path(\"Resources/Proj_One_Data.csv\")\n",
    "merged_BTCETH.to_csv(new_filepath, encoding='utf-8')\n"
   ]
  },
  {
   "cell_type": "code",
   "execution_count": null,
   "id": "ba55748a",
   "metadata": {},
   "outputs": [],
   "source": []
  }
 ],
 "metadata": {
  "kernelspec": {
   "display_name": "Python [conda env:pyvizenv] *",
   "language": "python",
   "name": "conda-env-pyvizenv-py"
  },
  "language_info": {
   "codemirror_mode": {
    "name": "ipython",
    "version": 3
   },
   "file_extension": ".py",
   "mimetype": "text/x-python",
   "name": "python",
   "nbconvert_exporter": "python",
   "pygments_lexer": "ipython3",
   "version": "3.7.10"
  }
 },
 "nbformat": 4,
 "nbformat_minor": 5
}
