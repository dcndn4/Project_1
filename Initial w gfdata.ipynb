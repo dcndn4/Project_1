{
 "cells": [
  {
   "cell_type": "code",
   "execution_count": 1,
   "id": "c65294b2",
   "metadata": {},
   "outputs": [],
   "source": [
    "import os\n",
    "from dotenv import load_dotenv\n",
    "from pathlib import Path\n",
    "from requests import Request, Session\n",
    "from requests.exceptions import ConnectionError, Timeout, TooManyRedirects\n",
    "import json\n",
    "import matplotlib.pyplot as plt\n",
    "import seaborn as sns\n",
    "\n",
    "import pandas as pd"
   ]
  },
  {
   "cell_type": "code",
   "execution_count": 2,
   "id": "8d16d94d",
   "metadata": {},
   "outputs": [
    {
     "name": "stdout",
     "output_type": "stream",
     "text": [
      "BTCUSD    float64\n",
      "dtype: object\n"
     ]
    },
    {
     "data": {
      "text/html": [
       "<div>\n",
       "<style scoped>\n",
       "    .dataframe tbody tr th:only-of-type {\n",
       "        vertical-align: middle;\n",
       "    }\n",
       "\n",
       "    .dataframe tbody tr th {\n",
       "        vertical-align: top;\n",
       "    }\n",
       "\n",
       "    .dataframe thead th {\n",
       "        text-align: right;\n",
       "    }\n",
       "</style>\n",
       "<table border=\"1\" class=\"dataframe\">\n",
       "  <thead>\n",
       "    <tr style=\"text-align: right;\">\n",
       "      <th></th>\n",
       "      <th>BTCUSD</th>\n",
       "    </tr>\n",
       "    <tr>\n",
       "      <th>Date</th>\n",
       "      <th></th>\n",
       "    </tr>\n",
       "  </thead>\n",
       "  <tbody>\n",
       "    <tr>\n",
       "      <th>2015-11-19</th>\n",
       "      <td>326.41</td>\n",
       "    </tr>\n",
       "    <tr>\n",
       "      <th>2015-11-20</th>\n",
       "      <td>322.39</td>\n",
       "    </tr>\n",
       "    <tr>\n",
       "      <th>2015-11-21</th>\n",
       "      <td>327.00</td>\n",
       "    </tr>\n",
       "    <tr>\n",
       "      <th>2015-11-22</th>\n",
       "      <td>323.71</td>\n",
       "    </tr>\n",
       "    <tr>\n",
       "      <th>2015-11-23</th>\n",
       "      <td>323.00</td>\n",
       "    </tr>\n",
       "    <tr>\n",
       "      <th>...</th>\n",
       "      <td>...</td>\n",
       "    </tr>\n",
       "    <tr>\n",
       "      <th>2021-09-26</th>\n",
       "      <td>43228.50</td>\n",
       "    </tr>\n",
       "    <tr>\n",
       "      <th>2021-09-27</th>\n",
       "      <td>42171.70</td>\n",
       "    </tr>\n",
       "    <tr>\n",
       "      <th>2021-09-28</th>\n",
       "      <td>41049.00</td>\n",
       "    </tr>\n",
       "    <tr>\n",
       "      <th>2021-09-29</th>\n",
       "      <td>41522.10</td>\n",
       "    </tr>\n",
       "    <tr>\n",
       "      <th>2021-09-30</th>\n",
       "      <td>43824.40</td>\n",
       "    </tr>\n",
       "  </tbody>\n",
       "</table>\n",
       "<p>2143 rows × 1 columns</p>\n",
       "</div>"
      ],
      "text/plain": [
       "              BTCUSD\n",
       "Date                \n",
       "2015-11-19    326.41\n",
       "2015-11-20    322.39\n",
       "2015-11-21    327.00\n",
       "2015-11-22    323.71\n",
       "2015-11-23    323.00\n",
       "...              ...\n",
       "2021-09-26  43228.50\n",
       "2021-09-27  42171.70\n",
       "2021-09-28  41049.00\n",
       "2021-09-29  41522.10\n",
       "2021-09-30  43824.40\n",
       "\n",
       "[2143 rows x 1 columns]"
      ]
     },
     "execution_count": 2,
     "metadata": {},
     "output_type": "execute_result"
    }
   ],
   "source": [
    "filepath=Path(\"Resources/BTC_c_.csv\")\n",
    "\n",
    "BTC_data = pd.read_csv(filepath, index_col=\"Date\", parse_dates=True)\n",
    "print(BTC_data.dtypes)\n",
    "\n",
    "\n",
    "#BTC_data['Date'] = pd.to_datetime(BTC_data['Date'])\n",
    "\n",
    "#print(BTC_data.dtypes)\n",
    "BTC_data"
   ]
  },
  {
   "cell_type": "code",
   "execution_count": 3,
   "id": "8c3c6d5e",
   "metadata": {},
   "outputs": [
    {
     "name": "stdout",
     "output_type": "stream",
     "text": [
      "ETHUSD    float64\n",
      "dtype: object\n"
     ]
    },
    {
     "data": {
      "text/html": [
       "<div>\n",
       "<style scoped>\n",
       "    .dataframe tbody tr th:only-of-type {\n",
       "        vertical-align: middle;\n",
       "    }\n",
       "\n",
       "    .dataframe tbody tr th {\n",
       "        vertical-align: top;\n",
       "    }\n",
       "\n",
       "    .dataframe thead th {\n",
       "        text-align: right;\n",
       "    }\n",
       "</style>\n",
       "<table border=\"1\" class=\"dataframe\">\n",
       "  <thead>\n",
       "    <tr style=\"text-align: right;\">\n",
       "      <th></th>\n",
       "      <th>ETHUSD</th>\n",
       "    </tr>\n",
       "    <tr>\n",
       "      <th>Date</th>\n",
       "      <th></th>\n",
       "    </tr>\n",
       "  </thead>\n",
       "  <tbody>\n",
       "    <tr>\n",
       "      <th>2016-10-14</th>\n",
       "      <td>11.92</td>\n",
       "    </tr>\n",
       "    <tr>\n",
       "      <th>2016-10-15</th>\n",
       "      <td>11.95</td>\n",
       "    </tr>\n",
       "    <tr>\n",
       "      <th>2016-10-16</th>\n",
       "      <td>11.95</td>\n",
       "    </tr>\n",
       "    <tr>\n",
       "      <th>2016-10-17</th>\n",
       "      <td>11.96</td>\n",
       "    </tr>\n",
       "    <tr>\n",
       "      <th>2016-10-18</th>\n",
       "      <td>12.54</td>\n",
       "    </tr>\n",
       "    <tr>\n",
       "      <th>...</th>\n",
       "      <td>...</td>\n",
       "    </tr>\n",
       "    <tr>\n",
       "      <th>2021-09-26</th>\n",
       "      <td>3064.64</td>\n",
       "    </tr>\n",
       "    <tr>\n",
       "      <th>2021-09-27</th>\n",
       "      <td>2927.15</td>\n",
       "    </tr>\n",
       "    <tr>\n",
       "      <th>2021-09-28</th>\n",
       "      <td>2807.19</td>\n",
       "    </tr>\n",
       "    <tr>\n",
       "      <th>2021-09-29</th>\n",
       "      <td>2848.28</td>\n",
       "    </tr>\n",
       "    <tr>\n",
       "      <th>2021-09-30</th>\n",
       "      <td>3000.45</td>\n",
       "    </tr>\n",
       "  </tbody>\n",
       "</table>\n",
       "<p>1813 rows × 1 columns</p>\n",
       "</div>"
      ],
      "text/plain": [
       "             ETHUSD\n",
       "Date               \n",
       "2016-10-14    11.92\n",
       "2016-10-15    11.95\n",
       "2016-10-16    11.95\n",
       "2016-10-17    11.96\n",
       "2016-10-18    12.54\n",
       "...             ...\n",
       "2021-09-26  3064.64\n",
       "2021-09-27  2927.15\n",
       "2021-09-28  2807.19\n",
       "2021-09-29  2848.28\n",
       "2021-09-30  3000.45\n",
       "\n",
       "[1813 rows x 1 columns]"
      ]
     },
     "execution_count": 3,
     "metadata": {},
     "output_type": "execute_result"
    }
   ],
   "source": [
    "\n",
    "\n",
    "filepath=Path(\"Resources/ETH_c_.csv\")\n",
    "ETH_data = pd.read_csv(filepath, index_col=\"Date\", parse_dates=True)\n",
    "#ETH_data['Date'] = pd.to_datetime(ETH_data['Date'], \n",
    "print(ETH_data.dtypes)\n",
    "ETH_data"
   ]
  },
  {
   "cell_type": "code",
   "execution_count": 4,
   "id": "0a43d3e3",
   "metadata": {},
   "outputs": [],
   "source": [
    "merged_BTCETH = pd.merge(BTC_data, ETH_data, on=[\"Date\"])\n"
   ]
  },
  {
   "cell_type": "code",
   "execution_count": 5,
   "id": "c0ce866a",
   "metadata": {},
   "outputs": [
    {
     "data": {
      "text/plain": [
       "<bound method NDFrame.head of               BTCUSD   ETHUSD\n",
       "Date                         \n",
       "2016-10-14    638.03    11.92\n",
       "2016-10-15    638.16    11.95\n",
       "2016-10-16    641.92    11.95\n",
       "2016-10-17    639.56    11.96\n",
       "2016-10-18    635.11    12.54\n",
       "...              ...      ...\n",
       "2021-09-26  43228.50  3064.64\n",
       "2021-09-27  42171.70  2927.15\n",
       "2021-09-28  41049.00  2807.19\n",
       "2021-09-29  41522.10  2848.28\n",
       "2021-09-30  43824.40  3000.45\n",
       "\n",
       "[1813 rows x 2 columns]>"
      ]
     },
     "execution_count": 5,
     "metadata": {},
     "output_type": "execute_result"
    }
   ],
   "source": [
    "merged_BTCETH.head\n"
   ]
  },
  {
   "cell_type": "code",
   "execution_count": 6,
   "id": "47f4ac66",
   "metadata": {},
   "outputs": [
    {
     "data": {
      "text/plain": [
       "BTCUSD    float64\n",
       "ETHUSD    float64\n",
       "dtype: object"
      ]
     },
     "execution_count": 6,
     "metadata": {},
     "output_type": "execute_result"
    }
   ],
   "source": [
    "merged_BTCETH.dtypes"
   ]
  },
  {
   "cell_type": "code",
   "execution_count": 7,
   "id": "4ab7df0c",
   "metadata": {},
   "outputs": [
    {
     "data": {
      "text/plain": [
       "<matplotlib.axes._subplots.AxesSubplot at 0x22231f19448>"
      ]
     },
     "execution_count": 7,
     "metadata": {},
     "output_type": "execute_result"
    },
    {
     "data": {
      "image/png": "[encoded data removed]",
      "text/plain": [
       "<Figure size 432x288 with 1 Axes>"
      ]
     },
     "metadata": {
      "needs_background": "light"
     },
     "output_type": "display_data"
    }
   ],
   "source": [
    "# Plot the data trends of the bitcoin vs. ethereum over these years\n",
    "merged_BTCETH.plot(title='correlation of bitcoin vs. ethereum')"
   ]
  },
  {
   "cell_type": "markdown",
   "id": "6c4a8470",
   "metadata": {},
   "source": [
    " ### Scaling Prices"
   ]
  },
  {
   "cell_type": "code",
   "execution_count": 8,
   "id": "fba24b25",
   "metadata": {},
   "outputs": [],
   "source": [
    "merged_BTCETH[\"BTC_norm\"]=merged_BTCETH[\"BTCUSD\"] / merged_BTCETH[\"BTCUSD\"].abs().max()"
   ]
  },
  {
   "cell_type": "code",
   "execution_count": 9,
   "id": "87aaac62",
   "metadata": {},
   "outputs": [
    {
     "data": {
      "text/html": [
       "<div>\n",
       "<style scoped>\n",
       "    .dataframe tbody tr th:only-of-type {\n",
       "        vertical-align: middle;\n",
       "    }\n",
       "\n",
       "    .dataframe tbody tr th {\n",
       "        vertical-align: top;\n",
       "    }\n",
       "\n",
       "    .dataframe thead th {\n",
       "        text-align: right;\n",
       "    }\n",
       "</style>\n",
       "<table border=\"1\" class=\"dataframe\">\n",
       "  <thead>\n",
       "    <tr style=\"text-align: right;\">\n",
       "      <th></th>\n",
       "      <th>BTCUSD</th>\n",
       "      <th>ETHUSD</th>\n",
       "      <th>BTC_norm</th>\n",
       "    </tr>\n",
       "    <tr>\n",
       "      <th>Date</th>\n",
       "      <th></th>\n",
       "      <th></th>\n",
       "      <th></th>\n",
       "    </tr>\n",
       "  </thead>\n",
       "  <tbody>\n",
       "    <tr>\n",
       "      <th>2016-10-14</th>\n",
       "      <td>638.03</td>\n",
       "      <td>11.92</td>\n",
       "      <td>0.010034</td>\n",
       "    </tr>\n",
       "    <tr>\n",
       "      <th>2016-10-15</th>\n",
       "      <td>638.16</td>\n",
       "      <td>11.95</td>\n",
       "      <td>0.010036</td>\n",
       "    </tr>\n",
       "    <tr>\n",
       "      <th>2016-10-16</th>\n",
       "      <td>641.92</td>\n",
       "      <td>11.95</td>\n",
       "      <td>0.010095</td>\n",
       "    </tr>\n",
       "    <tr>\n",
       "      <th>2016-10-17</th>\n",
       "      <td>639.56</td>\n",
       "      <td>11.96</td>\n",
       "      <td>0.010058</td>\n",
       "    </tr>\n",
       "    <tr>\n",
       "      <th>2016-10-18</th>\n",
       "      <td>635.11</td>\n",
       "      <td>12.54</td>\n",
       "      <td>0.009988</td>\n",
       "    </tr>\n",
       "    <tr>\n",
       "      <th>...</th>\n",
       "      <td>...</td>\n",
       "      <td>...</td>\n",
       "      <td>...</td>\n",
       "    </tr>\n",
       "    <tr>\n",
       "      <th>2021-09-26</th>\n",
       "      <td>43228.50</td>\n",
       "      <td>3064.64</td>\n",
       "      <td>0.679820</td>\n",
       "    </tr>\n",
       "    <tr>\n",
       "      <th>2021-09-27</th>\n",
       "      <td>42171.70</td>\n",
       "      <td>2927.15</td>\n",
       "      <td>0.663200</td>\n",
       "    </tr>\n",
       "    <tr>\n",
       "      <th>2021-09-28</th>\n",
       "      <td>41049.00</td>\n",
       "      <td>2807.19</td>\n",
       "      <td>0.645544</td>\n",
       "    </tr>\n",
       "    <tr>\n",
       "      <th>2021-09-29</th>\n",
       "      <td>41522.10</td>\n",
       "      <td>2848.28</td>\n",
       "      <td>0.652984</td>\n",
       "    </tr>\n",
       "    <tr>\n",
       "      <th>2021-09-30</th>\n",
       "      <td>43824.40</td>\n",
       "      <td>3000.45</td>\n",
       "      <td>0.689191</td>\n",
       "    </tr>\n",
       "  </tbody>\n",
       "</table>\n",
       "<p>1813 rows × 3 columns</p>\n",
       "</div>"
      ],
      "text/plain": [
       "              BTCUSD   ETHUSD  BTC_norm\n",
       "Date                                   \n",
       "2016-10-14    638.03    11.92  0.010034\n",
       "2016-10-15    638.16    11.95  0.010036\n",
       "2016-10-16    641.92    11.95  0.010095\n",
       "2016-10-17    639.56    11.96  0.010058\n",
       "2016-10-18    635.11    12.54  0.009988\n",
       "...              ...      ...       ...\n",
       "2021-09-26  43228.50  3064.64  0.679820\n",
       "2021-09-27  42171.70  2927.15  0.663200\n",
       "2021-09-28  41049.00  2807.19  0.645544\n",
       "2021-09-29  41522.10  2848.28  0.652984\n",
       "2021-09-30  43824.40  3000.45  0.689191\n",
       "\n",
       "[1813 rows x 3 columns]"
      ]
     },
     "execution_count": 9,
     "metadata": {},
     "output_type": "execute_result"
    }
   ],
   "source": [
    "merged_BTCETH"
   ]
  },
  {
   "cell_type": "code",
   "execution_count": 10,
   "id": "f56adc4a",
   "metadata": {},
   "outputs": [],
   "source": [
    "merged_BTCETH[\"ETH_norm\"]=merged_BTCETH[\"ETHUSD\"] / merged_BTCETH[\"ETHUSD\"].abs().max()"
   ]
  },
  {
   "cell_type": "code",
   "execution_count": 11,
   "id": "44bceeb7",
   "metadata": {},
   "outputs": [
    {
     "data": {
      "text/html": [
       "<div>\n",
       "<style scoped>\n",
       "    .dataframe tbody tr th:only-of-type {\n",
       "        vertical-align: middle;\n",
       "    }\n",
       "\n",
       "    .dataframe tbody tr th {\n",
       "        vertical-align: top;\n",
       "    }\n",
       "\n",
       "    .dataframe thead th {\n",
       "        text-align: right;\n",
       "    }\n",
       "</style>\n",
       "<table border=\"1\" class=\"dataframe\">\n",
       "  <thead>\n",
       "    <tr style=\"text-align: right;\">\n",
       "      <th></th>\n",
       "      <th>BTCUSD</th>\n",
       "      <th>ETHUSD</th>\n",
       "      <th>BTC_norm</th>\n",
       "      <th>ETH_norm</th>\n",
       "    </tr>\n",
       "    <tr>\n",
       "      <th>Date</th>\n",
       "      <th></th>\n",
       "      <th></th>\n",
       "      <th></th>\n",
       "      <th></th>\n",
       "    </tr>\n",
       "  </thead>\n",
       "  <tbody>\n",
       "    <tr>\n",
       "      <th>2016-10-14</th>\n",
       "      <td>638.03</td>\n",
       "      <td>11.92</td>\n",
       "      <td>0.010034</td>\n",
       "      <td>0.002852</td>\n",
       "    </tr>\n",
       "    <tr>\n",
       "      <th>2016-10-15</th>\n",
       "      <td>638.16</td>\n",
       "      <td>11.95</td>\n",
       "      <td>0.010036</td>\n",
       "      <td>0.002859</td>\n",
       "    </tr>\n",
       "    <tr>\n",
       "      <th>2016-10-16</th>\n",
       "      <td>641.92</td>\n",
       "      <td>11.95</td>\n",
       "      <td>0.010095</td>\n",
       "      <td>0.002859</td>\n",
       "    </tr>\n",
       "    <tr>\n",
       "      <th>2016-10-17</th>\n",
       "      <td>639.56</td>\n",
       "      <td>11.96</td>\n",
       "      <td>0.010058</td>\n",
       "      <td>0.002861</td>\n",
       "    </tr>\n",
       "    <tr>\n",
       "      <th>2016-10-18</th>\n",
       "      <td>635.11</td>\n",
       "      <td>12.54</td>\n",
       "      <td>0.009988</td>\n",
       "      <td>0.003000</td>\n",
       "    </tr>\n",
       "    <tr>\n",
       "      <th>...</th>\n",
       "      <td>...</td>\n",
       "      <td>...</td>\n",
       "      <td>...</td>\n",
       "      <td>...</td>\n",
       "    </tr>\n",
       "    <tr>\n",
       "      <th>2021-09-26</th>\n",
       "      <td>43228.50</td>\n",
       "      <td>3064.64</td>\n",
       "      <td>0.679820</td>\n",
       "      <td>0.733201</td>\n",
       "    </tr>\n",
       "    <tr>\n",
       "      <th>2021-09-27</th>\n",
       "      <td>42171.70</td>\n",
       "      <td>2927.15</td>\n",
       "      <td>0.663200</td>\n",
       "      <td>0.700307</td>\n",
       "    </tr>\n",
       "    <tr>\n",
       "      <th>2021-09-28</th>\n",
       "      <td>41049.00</td>\n",
       "      <td>2807.19</td>\n",
       "      <td>0.645544</td>\n",
       "      <td>0.671607</td>\n",
       "    </tr>\n",
       "    <tr>\n",
       "      <th>2021-09-29</th>\n",
       "      <td>41522.10</td>\n",
       "      <td>2848.28</td>\n",
       "      <td>0.652984</td>\n",
       "      <td>0.681438</td>\n",
       "    </tr>\n",
       "    <tr>\n",
       "      <th>2021-09-30</th>\n",
       "      <td>43824.40</td>\n",
       "      <td>3000.45</td>\n",
       "      <td>0.689191</td>\n",
       "      <td>0.717844</td>\n",
       "    </tr>\n",
       "  </tbody>\n",
       "</table>\n",
       "<p>1813 rows × 4 columns</p>\n",
       "</div>"
      ],
      "text/plain": [
       "              BTCUSD   ETHUSD  BTC_norm  ETH_norm\n",
       "Date                                             \n",
       "2016-10-14    638.03    11.92  0.010034  0.002852\n",
       "2016-10-15    638.16    11.95  0.010036  0.002859\n",
       "2016-10-16    641.92    11.95  0.010095  0.002859\n",
       "2016-10-17    639.56    11.96  0.010058  0.002861\n",
       "2016-10-18    635.11    12.54  0.009988  0.003000\n",
       "...              ...      ...       ...       ...\n",
       "2021-09-26  43228.50  3064.64  0.679820  0.733201\n",
       "2021-09-27  42171.70  2927.15  0.663200  0.700307\n",
       "2021-09-28  41049.00  2807.19  0.645544  0.671607\n",
       "2021-09-29  41522.10  2848.28  0.652984  0.681438\n",
       "2021-09-30  43824.40  3000.45  0.689191  0.717844\n",
       "\n",
       "[1813 rows x 4 columns]"
      ]
     },
     "execution_count": 11,
     "metadata": {},
     "output_type": "execute_result"
    }
   ],
   "source": [
    "merged_BTCETH"
   ]
  },
  {
   "cell_type": "code",
   "execution_count": 12,
   "id": "33536abe",
   "metadata": {},
   "outputs": [
    {
     "data": {
      "text/plain": [
       "<matplotlib.axes._subplots.AxesSubplot at 0x2223411ddc8>"
      ]
     },
     "execution_count": 12,
     "metadata": {},
     "output_type": "execute_result"
    },
    {
     "data": {
      "image/png": "[encoded data removed]",
      "text/plain": [
       "<Figure size 432x288 with 1 Axes>"
      ]
     },
     "metadata": {
      "needs_background": "light"
     },
     "output_type": "display_data"
    }
   ],
   "source": [
    "merged_BTCETH[['BTC_norm', 'ETH_norm']].plot(title='new')"
   ]
  },
  {
   "cell_type": "code",
   "execution_count": 13,
   "id": "f578007b",
   "metadata": {},
   "outputs": [],
   "source": [
    "btceth_returns = merged_BTCETH.pct_change()"
   ]
  },
  {
   "cell_type": "code",
   "execution_count": 14,
   "id": "33ee171e",
   "metadata": {},
   "outputs": [
    {
     "data": {
      "text/html": [
       "<div>\n",
       "<style scoped>\n",
       "    .dataframe tbody tr th:only-of-type {\n",
       "        vertical-align: middle;\n",
       "    }\n",
       "\n",
       "    .dataframe tbody tr th {\n",
       "        vertical-align: top;\n",
       "    }\n",
       "\n",
       "    .dataframe thead th {\n",
       "        text-align: right;\n",
       "    }\n",
       "</style>\n",
       "<table border=\"1\" class=\"dataframe\">\n",
       "  <thead>\n",
       "    <tr style=\"text-align: right;\">\n",
       "      <th></th>\n",
       "      <th>BTCUSD</th>\n",
       "      <th>ETHUSD</th>\n",
       "      <th>BTC_norm</th>\n",
       "      <th>ETH_norm</th>\n",
       "    </tr>\n",
       "  </thead>\n",
       "  <tbody>\n",
       "    <tr>\n",
       "      <th>BTCUSD</th>\n",
       "      <td>1.000000</td>\n",
       "      <td>0.667167</td>\n",
       "      <td>1.000000</td>\n",
       "      <td>0.667167</td>\n",
       "    </tr>\n",
       "    <tr>\n",
       "      <th>ETHUSD</th>\n",
       "      <td>0.667167</td>\n",
       "      <td>1.000000</td>\n",
       "      <td>0.667167</td>\n",
       "      <td>1.000000</td>\n",
       "    </tr>\n",
       "    <tr>\n",
       "      <th>BTC_norm</th>\n",
       "      <td>1.000000</td>\n",
       "      <td>0.667167</td>\n",
       "      <td>1.000000</td>\n",
       "      <td>0.667167</td>\n",
       "    </tr>\n",
       "    <tr>\n",
       "      <th>ETH_norm</th>\n",
       "      <td>0.667167</td>\n",
       "      <td>1.000000</td>\n",
       "      <td>0.667167</td>\n",
       "      <td>1.000000</td>\n",
       "    </tr>\n",
       "  </tbody>\n",
       "</table>\n",
       "</div>"
      ],
      "text/plain": [
       "            BTCUSD    ETHUSD  BTC_norm  ETH_norm\n",
       "BTCUSD    1.000000  0.667167  1.000000  0.667167\n",
       "ETHUSD    0.667167  1.000000  0.667167  1.000000\n",
       "BTC_norm  1.000000  0.667167  1.000000  0.667167\n",
       "ETH_norm  0.667167  1.000000  0.667167  1.000000"
      ]
     },
     "execution_count": 14,
     "metadata": {},
     "output_type": "execute_result"
    }
   ],
   "source": [
    "correlation = btceth_returns.corr()\n",
    "correlation"
   ]
  },
  {
   "cell_type": "code",
   "execution_count": 15,
   "id": "b1d848cc",
   "metadata": {},
   "outputs": [
    {
     "data": {
      "text/plain": [
       "<matplotlib.axes._subplots.AxesSubplot at 0x2223422e6c8>"
      ]
     },
     "execution_count": 15,
     "metadata": {},
     "output_type": "execute_result"
    },
    {
     "data": {
      "image/png": "[encoded data removed]",
      "text/plain": [
       "<Figure size 432x288 with 1 Axes>"
      ]
     },
     "metadata": {
      "needs_background": "light"
     },
     "output_type": "display_data"
    }
   ],
   "source": [
    "# Plot the daily returns of Bitcoin and Ethernet\n",
    "btceth_returns.plot()"
   ]
  },
  {
   "cell_type": "code",
   "execution_count": 16,
   "id": "2074008c",
   "metadata": {},
   "outputs": [
    {
     "data": {
      "text/plain": [
       "<matplotlib.axes._subplots.AxesSubplot at 0x22234391d08>"
      ]
     },
     "execution_count": 16,
     "metadata": {},
     "output_type": "execute_result"
    },
    {
     "data": {
      "image/png": "[encoded data removed]",
      "text/plain": [
       "<Figure size 432x288 with 2 Axes>"
      ]
     },
     "metadata": {
      "needs_background": "light"
     },
     "output_type": "display_data"
    }
   ],
   "source": [
    "# not very useful, ha ha\n",
    "\n",
    "# Use the `heatmap` function from the seaborn library to visualize correlations\n",
    "sns.heatmap(merged_BTCETH)"
   ]
  },
  {
   "cell_type": "code",
   "execution_count": 17,
   "id": "f406ef9f",
   "metadata": {},
   "outputs": [
    {
     "data": {
      "text/plain": [
       "<matplotlib.axes._subplots.AxesSubplot at 0x222343ed148>"
      ]
     },
     "execution_count": 17,
     "metadata": {},
     "output_type": "execute_result"
    },
    {
     "data": {
      "image/png": "[encoded data removed]",
      "text/plain": [
       "<Figure size 432x288 with 2 Axes>"
      ]
     },
     "metadata": {
      "needs_background": "light"
     },
     "output_type": "display_data"
    }
   ],
   "source": [
    "# also not very useful..\n",
    "\n",
    "# Use the `heatmap` function from the seaborn library to visualize correlations\n",
    "sns.heatmap(btceth_returns)"
   ]
  },
  {
   "cell_type": "code",
   "execution_count": 29,
   "id": "1094f8f1",
   "metadata": {},
   "outputs": [
    {
     "data": {
      "text/html": [
       "<div>\n",
       "<style scoped>\n",
       "    .dataframe tbody tr th:only-of-type {\n",
       "        vertical-align: middle;\n",
       "    }\n",
       "\n",
       "    .dataframe tbody tr th {\n",
       "        vertical-align: top;\n",
       "    }\n",
       "\n",
       "    .dataframe thead th {\n",
       "        text-align: right;\n",
       "    }\n",
       "</style>\n",
       "<table border=\"1\" class=\"dataframe\">\n",
       "  <thead>\n",
       "    <tr style=\"text-align: right;\">\n",
       "      <th></th>\n",
       "      <th>BTCUSD</th>\n",
       "      <th>ETHUSD</th>\n",
       "      <th>BTC_norm</th>\n",
       "      <th>ETH_norm</th>\n",
       "    </tr>\n",
       "    <tr>\n",
       "      <th>Date</th>\n",
       "      <th></th>\n",
       "      <th></th>\n",
       "      <th></th>\n",
       "      <th></th>\n",
       "    </tr>\n",
       "  </thead>\n",
       "  <tbody>\n",
       "    <tr>\n",
       "      <th>2016-10-14</th>\n",
       "      <td>NaN</td>\n",
       "      <td>NaN</td>\n",
       "      <td>NaN</td>\n",
       "      <td>NaN</td>\n",
       "    </tr>\n",
       "    <tr>\n",
       "      <th>2016-10-15</th>\n",
       "      <td>0.000204</td>\n",
       "      <td>0.002517</td>\n",
       "      <td>0.000204</td>\n",
       "      <td>0.002517</td>\n",
       "    </tr>\n",
       "    <tr>\n",
       "      <th>2016-10-16</th>\n",
       "      <td>0.006097</td>\n",
       "      <td>0.002517</td>\n",
       "      <td>0.006097</td>\n",
       "      <td>0.002517</td>\n",
       "    </tr>\n",
       "    <tr>\n",
       "      <th>2016-10-17</th>\n",
       "      <td>0.002398</td>\n",
       "      <td>0.003356</td>\n",
       "      <td>0.002398</td>\n",
       "      <td>0.003356</td>\n",
       "    </tr>\n",
       "    <tr>\n",
       "      <th>2016-10-18</th>\n",
       "      <td>-0.004577</td>\n",
       "      <td>0.052013</td>\n",
       "      <td>-0.004577</td>\n",
       "      <td>0.052013</td>\n",
       "    </tr>\n",
       "  </tbody>\n",
       "</table>\n",
       "</div>"
      ],
      "text/plain": [
       "              BTCUSD    ETHUSD  BTC_norm  ETH_norm\n",
       "Date                                              \n",
       "2016-10-14       NaN       NaN       NaN       NaN\n",
       "2016-10-15  0.000204  0.002517  0.000204  0.002517\n",
       "2016-10-16  0.006097  0.002517  0.006097  0.002517\n",
       "2016-10-17  0.002398  0.003356  0.002398  0.003356\n",
       "2016-10-18 -0.004577  0.052013 -0.004577  0.052013"
      ]
     },
     "execution_count": 29,
     "metadata": {},
     "output_type": "execute_result"
    }
   ],
   "source": [
    "# Use the `cumprod` function to cumulatively multiply each element in the Series by it's preceding element until the end\n",
    "cumulative_returns = (1 + btceth_returns).cumprod() - 1\n",
    "cumulative_returns.head()"
   ]
  },
  {
   "cell_type": "code",
   "execution_count": 30,
   "id": "b0ecbc8f",
   "metadata": {},
   "outputs": [
    {
     "data": {
      "text/plain": [
       "<matplotlib.axes._subplots.AxesSubplot at 0x2c432467148>"
      ]
     },
     "execution_count": 30,
     "metadata": {},
     "output_type": "execute_result"
    },
    {
     "data": {
      "image/png": "[encoded data removed]",
      "text/plain": [
       "<Figure size 432x288 with 1 Axes>"
      ]
     },
     "metadata": {
      "needs_background": "light"
     },
     "output_type": "display_data"
    }
   ],
   "source": [
    "# Use the `plot` function to plot the cumulative portfolio returns\n",
    "cumulative_returns.plot()"
   ]
  },
  {
   "cell_type": "code",
   "execution_count": null,
   "id": "6b42ca43",
   "metadata": {},
   "outputs": [],
   "source": []
  }
 ],
 "metadata": {
  "kernelspec": {
   "display_name": "Python [conda env:pyvizenv] *",
   "language": "python",
   "name": "conda-env-pyvizenv-py"
  },
  "language_info": {
   "codemirror_mode": {
    "name": "ipython",
    "version": 3
   },
   "file_extension": ".py",
   "mimetype": "text/x-python",
   "name": "python",
   "nbconvert_exporter": "python",
   "pygments_lexer": "ipython3",
   "version": "3.7.10"
  }
 },
 "nbformat": 4,
 "nbformat_minor": 5
}
